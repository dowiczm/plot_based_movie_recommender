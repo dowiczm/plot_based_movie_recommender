{
 "cells": [
  {
   "cell_type": "code",
   "execution_count": 197,
   "metadata": {},
   "outputs": [],
   "source": [
    "import pandas as pd\n",
    "import numpy as np\n",
    "\n",
    "import spacy\n",
    "\n",
    "from spacy.lang.en.stop_words import STOP_WORDS\n",
    "from string import punctuation\n",
    "from collections import Counter\n",
    "\n",
    "from heapq import nlargest\n",
    "\n",
    "from z_functions import extract"
   ]
  },
  {
   "cell_type": "code",
   "execution_count": 138,
   "metadata": {},
   "outputs": [],
   "source": [
    "nlp = spacy.load(\"en_core_web_lg\")"
   ]
  },
  {
   "cell_type": "code",
   "execution_count": 139,
   "metadata": {},
   "outputs": [
    {
     "data": {
      "text/html": [
       "<div>\n",
       "<style scoped>\n",
       "    .dataframe tbody tr th:only-of-type {\n",
       "        vertical-align: middle;\n",
       "    }\n",
       "\n",
       "    .dataframe tbody tr th {\n",
       "        vertical-align: top;\n",
       "    }\n",
       "\n",
       "    .dataframe thead th {\n",
       "        text-align: right;\n",
       "    }\n",
       "</style>\n",
       "<table border=\"1\" class=\"dataframe\">\n",
       "  <thead>\n",
       "    <tr style=\"text-align: right;\">\n",
       "      <th></th>\n",
       "      <th>imdb_id</th>\n",
       "      <th>title</th>\n",
       "      <th>overviews</th>\n",
       "      <th>join_director</th>\n",
       "      <th>join_cast</th>\n",
       "      <th>vote_average</th>\n",
       "      <th>vote_count</th>\n",
       "      <th>genre</th>\n",
       "      <th>user_plots</th>\n",
       "      <th>synopsis</th>\n",
       "      <th>...</th>\n",
       "      <th>Fantasy</th>\n",
       "      <th>Mystery</th>\n",
       "      <th>Thriller</th>\n",
       "      <th>Western</th>\n",
       "      <th>Family</th>\n",
       "      <th>Sci-Fi</th>\n",
       "      <th>Romance</th>\n",
       "      <th>Film-Noir</th>\n",
       "      <th>Musical</th>\n",
       "      <th>Music</th>\n",
       "    </tr>\n",
       "  </thead>\n",
       "  <tbody>\n",
       "    <tr>\n",
       "      <th>0</th>\n",
       "      <td>tt0111161</td>\n",
       "      <td>The Shawshank Redemption</td>\n",
       "      <td>Framed in the 1940s for the double murder of h...</td>\n",
       "      <td>FrankDarabont</td>\n",
       "      <td>TimRobbins MorganFreeman BobGunton</td>\n",
       "      <td>8.7</td>\n",
       "      <td>18845</td>\n",
       "      <td>Drama</td>\n",
       "      <td>['Two imprisoned men bond over a number of yea...</td>\n",
       "      <td>In 1947, Andy Dufresne (Tim Robbins), a banker...</td>\n",
       "      <td>...</td>\n",
       "      <td>0</td>\n",
       "      <td>0</td>\n",
       "      <td>0</td>\n",
       "      <td>0</td>\n",
       "      <td>0</td>\n",
       "      <td>0</td>\n",
       "      <td>0</td>\n",
       "      <td>0</td>\n",
       "      <td>0</td>\n",
       "      <td>0</td>\n",
       "    </tr>\n",
       "    <tr>\n",
       "      <th>1</th>\n",
       "      <td>tt0068646</td>\n",
       "      <td>The Godfather</td>\n",
       "      <td>Spanning the years 1945 to 1955, a chronicle o...</td>\n",
       "      <td>FrancisFordCoppola</td>\n",
       "      <td>AlPacino MarlonBrando JamesCaan</td>\n",
       "      <td>8.7</td>\n",
       "      <td>14225</td>\n",
       "      <td>Crime Drama</td>\n",
       "      <td>[\"An organized crime dynasty's aging patriarch...</td>\n",
       "      <td>In late summer 1945, guests are gathered for t...</td>\n",
       "      <td>...</td>\n",
       "      <td>0</td>\n",
       "      <td>0</td>\n",
       "      <td>0</td>\n",
       "      <td>0</td>\n",
       "      <td>0</td>\n",
       "      <td>0</td>\n",
       "      <td>0</td>\n",
       "      <td>0</td>\n",
       "      <td>0</td>\n",
       "      <td>0</td>\n",
       "    </tr>\n",
       "  </tbody>\n",
       "</table>\n",
       "<p>2 rows × 29 columns</p>\n",
       "</div>"
      ],
      "text/plain": [
       "     imdb_id                     title  \\\n",
       "0  tt0111161  The Shawshank Redemption   \n",
       "1  tt0068646             The Godfather   \n",
       "\n",
       "                                           overviews        join_director  \\\n",
       "0  Framed in the 1940s for the double murder of h...       FrankDarabont    \n",
       "1  Spanning the years 1945 to 1955, a chronicle o...  FrancisFordCoppola    \n",
       "\n",
       "                             join_cast  vote_average  vote_count        genre  \\\n",
       "0  TimRobbins MorganFreeman BobGunton            8.7       18845        Drama   \n",
       "1     AlPacino MarlonBrando JamesCaan            8.7       14225  Crime Drama   \n",
       "\n",
       "                                          user_plots  \\\n",
       "0  ['Two imprisoned men bond over a number of yea...   \n",
       "1  [\"An organized crime dynasty's aging patriarch...   \n",
       "\n",
       "                                            synopsis  ... Fantasy  Mystery  \\\n",
       "0  In 1947, Andy Dufresne (Tim Robbins), a banker...  ...       0        0   \n",
       "1  In late summer 1945, guests are gathered for t...  ...       0        0   \n",
       "\n",
       "   Thriller  Western  Family  Sci-Fi  Romance  Film-Noir  Musical  Music  \n",
       "0         0        0       0       0        0          0        0      0  \n",
       "1         0        0       0       0        0          0        0      0  \n",
       "\n",
       "[2 rows x 29 columns]"
      ]
     },
     "execution_count": 139,
     "metadata": {},
     "output_type": "execute_result"
    }
   ],
   "source": [
    "movies = pd.read_csv('../data/genre_groups/master_genre_df.csv')\n",
    "movies.head(2)"
   ]
  },
  {
   "cell_type": "code",
   "execution_count": 179,
   "metadata": {},
   "outputs": [],
   "source": [
    "doc = nlp(movies['user_plots'][21])"
   ]
  },
  {
   "cell_type": "code",
   "execution_count": 180,
   "metadata": {},
   "outputs": [
    {
     "data": {
      "text/plain": [
       "21"
      ]
     },
     "execution_count": 180,
     "metadata": {},
     "output_type": "execute_result"
    }
   ],
   "source": [
    "len(list(doc.sents))"
   ]
  },
  {
   "cell_type": "code",
   "execution_count": 181,
   "metadata": {},
   "outputs": [],
   "source": [
    "keywords = []\n",
    "pos_tag = ['NOUN', 'VERB']\n",
    "\n",
    "#filter tokens\n",
    "for token in doc:\n",
    "    if(token.text in stopwords or token.text in punctuation):\n",
    "        continue\n",
    "    if(token.pos_ in pos_tag):\n",
    "        keywords.append(token.text)"
   ]
  },
  {
   "cell_type": "code",
   "execution_count": 182,
   "metadata": {},
   "outputs": [
    {
     "data": {
      "text/plain": [
       "[('brothers', 6),\n",
       " ('killed', 6),\n",
       " ('brother', 6),\n",
       " ('find', 6),\n",
       " ('invasion', 5),\n",
       " ('mother', 4),\n",
       " ('bring', 4),\n",
       " ('mission', 4),\n",
       " ('action', 3),\n",
       " ('members', 3),\n",
       " ('learns', 3),\n",
       " ('men', 3),\n",
       " ('unit', 3),\n",
       " ('war', 3),\n",
       " ('Following', 2),\n",
       " ('fight', 2),\n",
       " ('secure', 2),\n",
       " ('beachhead', 2),\n",
       " ('fighting', 2),\n",
       " ('receive', 2)]"
      ]
     },
     "execution_count": 182,
     "metadata": {},
     "output_type": "execute_result"
    }
   ],
   "source": [
    "freq_word = Counter(keywords)\n",
    "freq_word.most_common(n=20)"
   ]
  },
  {
   "cell_type": "code",
   "execution_count": 183,
   "metadata": {},
   "outputs": [
    {
     "data": {
      "text/plain": [
       "[('brothers', 1.0),\n",
       " ('killed', 1.0),\n",
       " ('brother', 1.0),\n",
       " ('find', 1.0),\n",
       " ('invasion', 0.8333333333333334)]"
      ]
     },
     "execution_count": 183,
     "metadata": {},
     "output_type": "execute_result"
    }
   ],
   "source": [
    "max_freq = Counter(keywords).most_common()[0][1]\n",
    "\n",
    "#normalizing \n",
    "for word in freq_word.keys():\n",
    "    freq_word[word] = (freq_word[word] / max_freq)\n",
    "freq_word.most_common(5)"
   ]
  },
  {
   "cell_type": "code",
   "execution_count": 184,
   "metadata": {},
   "outputs": [],
   "source": [
    "sent_strength = {}\n",
    "\n",
    "#loop through sentences\n",
    "for sent in doc.sents:\n",
    "    \n",
    "    #loop through words in sentence\n",
    "    for word in sent:\n",
    "        \n",
    "        #checking if word is in our frequent_words dict.\n",
    "        if word.text in freq_word.keys():\n",
    "            \n",
    "            #adding freq_word value to sent value\n",
    "            if sent in sent_strength.keys():\n",
    "                sent_strength[sent] += freq_word[word.text]\n",
    "            \n",
    "            else:\n",
    "                sent_strength[sent] = freq_word[word.text]"
   ]
  },
  {
   "cell_type": "code",
   "execution_count": 190,
   "metadata": {},
   "outputs": [],
   "source": [
    "summarized_sentences = nlargest(5, sent_strength, key=sent_strength.get)"
   ]
  },
  {
   "cell_type": "code",
   "execution_count": 191,
   "metadata": {},
   "outputs": [],
   "source": [
    "final_sentences = [w.text for w in summarized_sentences]"
   ]
  },
  {
   "cell_type": "code",
   "execution_count": 192,
   "metadata": {},
   "outputs": [],
   "source": [
    "final_summary = ' '.join(final_sentences)"
   ]
  },
  {
   "cell_type": "code",
   "execution_count": 193,
   "metadata": {},
   "outputs": [
    {
     "data": {
      "text/plain": [
       "'The United States Army Chief of Staff, George C. Marshall, is given an opportunity to alleviate some of her grief when he learns of a fourth brother, Private James Ryan, and decides to send out 8 men (Cpt. Miller and select members from 2nd Rangers) to find him and bring him back home to his mother...\\', \"After the invasion of fortress Europe on June 6th 1944, Cpt. Miller leads his squad from the 2nd Ranger Battalion of the 29th Infantry Division, on a mission to find and bring home Private James Francis Ryan after the death of his brothers. This exciting war thriller brings the reality of history\\'s bloodiest war into the homes of ordinary people, but also brings to light the reality of broken and lost families in a time of total and encompassing war.\", \\'The film opens with the Allied invasion on the Normandy beach on June 6, 1944. [\\'Following the Normandy Landings, a group of U.S. soldiers go behind enemy lines to retrieve a paratrooper whose brothers have been killed in action.\\', \\'Opening with the Allied invasion of Normandy on 6 June 1944, members of the 2nd Ranger Battalion under Cpt. He sends Cpt. Miller and seven other people from the 2nd Ranger Battalion to go look for him and bring him back to his mother.\\', \"During WWII, Chief of Staff, General Marshall is informed that three of a woman\\'s sons have been killed and that she\\'s going to receive the notifications of their demise at the same time. After the Army General Staff learns that a fourth brother is missing in the French countryside, a rescue mission is ordered to find the young soldier and return him safely home.'"
      ]
     },
     "execution_count": 193,
     "metadata": {},
     "output_type": "execute_result"
    }
   ],
   "source": [
    "final_summary"
   ]
  },
  {
   "cell_type": "code",
   "execution_count": 195,
   "metadata": {},
   "outputs": [
    {
     "data": {
      "text/plain": [
       "'find bring invasion war learns brother members mother mission brothers '"
      ]
     },
     "execution_count": 195,
     "metadata": {},
     "output_type": "execute_result"
    }
   ],
   "source": [
    "extract(nlp(final_summary))"
   ]
  },
  {
   "cell_type": "code",
   "execution_count": null,
   "metadata": {},
   "outputs": [],
   "source": []
  }
 ],
 "metadata": {
  "kernelspec": {
   "display_name": "Python 3",
   "language": "python",
   "name": "python3"
  },
  "language_info": {
   "codemirror_mode": {
    "name": "ipython",
    "version": 3
   },
   "file_extension": ".py",
   "mimetype": "text/x-python",
   "name": "python",
   "nbconvert_exporter": "python",
   "pygments_lexer": "ipython3",
   "version": "3.8.5"
  }
 },
 "nbformat": 4,
 "nbformat_minor": 4
}
