{
 "cells": [
  {
   "cell_type": "code",
   "execution_count": 1,
   "metadata": {},
   "outputs": [],
   "source": [
    "import pandas as pd\n",
    "import numpy as np\n",
    "\n",
    "import requests\n",
    "from bs4 import BeautifulSoup\n",
    "from time import sleep"
   ]
  },
  {
   "cell_type": "code",
   "execution_count": 2,
   "metadata": {},
   "outputs": [],
   "source": [
    "df = pd.read_csv('../data/imdb_top_6652.csv')\n",
    "refs = [ref.split('/')[2] for ref in df['href']]"
   ]
  },
  {
   "cell_type": "code",
   "execution_count": 3,
   "metadata": {},
   "outputs": [
    {
     "data": {
      "text/plain": [
       "'tt0111161'"
      ]
     },
     "execution_count": 3,
     "metadata": {},
     "output_type": "execute_result"
    }
   ],
   "source": [
    "refs[0]"
   ]
  },
  {
   "cell_type": "markdown",
   "metadata": {},
   "source": [
    "## Pulling Title, Overview, Genres, IDs, Popularity Score, Vote Average, Vote Count "
   ]
  },
  {
   "cell_type": "code",
   "execution_count": 61,
   "metadata": {},
   "outputs": [],
   "source": [
    "key = '5d02d5a46ec1558878df4206f7c74777'\n",
    "\n",
    "titles = []\n",
    "overviews = []\n",
    "genres = []\n",
    "imdb_ids = []\n",
    "popularity_scores = []\n",
    "vote_averages = []\n",
    "vote_counts = []\n",
    "\n",
    "for ref in refs:\n",
    "    url = f'https://api.themoviedb.org/3/movie/{ref}?api_key={key}&language=en-US'\n",
    "    res = requests.get(url)\n",
    "    info = res.json()\n",
    "    \n",
    "    titles.append(info['original_title'])\n",
    "    overviews.append(info['overview'])\n",
    "    genres.append(info['genres'])\n",
    "    imdb_ids.append(info['imdb_id'])\n",
    "    popularity_scores.append(info['popularity'])\n",
    "    vote_averages.append(info['vote_average'])\n",
    "    vote_counts.append(info['vote_count'])"
   ]
  },
  {
   "cell_type": "code",
   "execution_count": 62,
   "metadata": {},
   "outputs": [
    {
     "data": {
      "text/plain": [
       "6652"
      ]
     },
     "execution_count": 62,
     "metadata": {},
     "output_type": "execute_result"
    }
   ],
   "source": [
    "len(titles)"
   ]
  },
  {
   "cell_type": "code",
   "execution_count": 65,
   "metadata": {},
   "outputs": [],
   "source": [
    "movies = pd.DataFrame(titles, columns=['title'])"
   ]
  },
  {
   "cell_type": "code",
   "execution_count": 66,
   "metadata": {},
   "outputs": [],
   "source": [
    "movies['overviews'] = overviews\n",
    "movies['genres'] = genres\n",
    "movies['imdb_id'] = imdb_ids\n",
    "movies['popularity'] = popularity_scores\n",
    "movies['vote_average'] = vote_averages\n",
    "movies['vote_count'] = vote_counts"
   ]
  },
  {
   "cell_type": "code",
   "execution_count": 69,
   "metadata": {},
   "outputs": [
    {
     "data": {
      "text/html": [
       "<div>\n",
       "<style scoped>\n",
       "    .dataframe tbody tr th:only-of-type {\n",
       "        vertical-align: middle;\n",
       "    }\n",
       "\n",
       "    .dataframe tbody tr th {\n",
       "        vertical-align: top;\n",
       "    }\n",
       "\n",
       "    .dataframe thead th {\n",
       "        text-align: right;\n",
       "    }\n",
       "</style>\n",
       "<table border=\"1\" class=\"dataframe\">\n",
       "  <thead>\n",
       "    <tr style=\"text-align: right;\">\n",
       "      <th></th>\n",
       "      <th>title</th>\n",
       "      <th>overviews</th>\n",
       "      <th>genres</th>\n",
       "      <th>imdb_id</th>\n",
       "      <th>popularity</th>\n",
       "      <th>vote_average</th>\n",
       "      <th>vote_count</th>\n",
       "    </tr>\n",
       "  </thead>\n",
       "  <tbody>\n",
       "    <tr>\n",
       "      <th>0</th>\n",
       "      <td>The Shawshank Redemption</td>\n",
       "      <td>Framed in the 1940s for the double murder of h...</td>\n",
       "      <td>[{'id': 18, 'name': 'Drama'}, {'id': 80, 'name...</td>\n",
       "      <td>tt0111161</td>\n",
       "      <td>111.250</td>\n",
       "      <td>8.7</td>\n",
       "      <td>18845</td>\n",
       "    </tr>\n",
       "    <tr>\n",
       "      <th>1</th>\n",
       "      <td>The Godfather</td>\n",
       "      <td>Spanning the years 1945 to 1955, a chronicle o...</td>\n",
       "      <td>[{'id': 18, 'name': 'Drama'}, {'id': 80, 'name...</td>\n",
       "      <td>tt0068646</td>\n",
       "      <td>45.416</td>\n",
       "      <td>8.7</td>\n",
       "      <td>14225</td>\n",
       "    </tr>\n",
       "    <tr>\n",
       "      <th>2</th>\n",
       "      <td>The Dark Knight</td>\n",
       "      <td>Batman raises the stakes in his war on crime. ...</td>\n",
       "      <td>[{'id': 18, 'name': 'Drama'}, {'id': 28, 'name...</td>\n",
       "      <td>tt0468569</td>\n",
       "      <td>58.502</td>\n",
       "      <td>8.5</td>\n",
       "      <td>24993</td>\n",
       "    </tr>\n",
       "    <tr>\n",
       "      <th>3</th>\n",
       "      <td>The Godfather: Part II</td>\n",
       "      <td>In the continuing saga of the Corleone crime f...</td>\n",
       "      <td>[{'id': 18, 'name': 'Drama'}, {'id': 80, 'name...</td>\n",
       "      <td>tt0071562</td>\n",
       "      <td>33.582</td>\n",
       "      <td>8.6</td>\n",
       "      <td>8488</td>\n",
       "    </tr>\n",
       "    <tr>\n",
       "      <th>4</th>\n",
       "      <td>12 Angry Men</td>\n",
       "      <td>The defense and the prosecution have rested an...</td>\n",
       "      <td>[{'id': 18, 'name': 'Drama'}]</td>\n",
       "      <td>tt0050083</td>\n",
       "      <td>24.822</td>\n",
       "      <td>8.5</td>\n",
       "      <td>5539</td>\n",
       "    </tr>\n",
       "  </tbody>\n",
       "</table>\n",
       "</div>"
      ],
      "text/plain": [
       "                      title  \\\n",
       "0  The Shawshank Redemption   \n",
       "1             The Godfather   \n",
       "2           The Dark Knight   \n",
       "3    The Godfather: Part II   \n",
       "4              12 Angry Men   \n",
       "\n",
       "                                           overviews  \\\n",
       "0  Framed in the 1940s for the double murder of h...   \n",
       "1  Spanning the years 1945 to 1955, a chronicle o...   \n",
       "2  Batman raises the stakes in his war on crime. ...   \n",
       "3  In the continuing saga of the Corleone crime f...   \n",
       "4  The defense and the prosecution have rested an...   \n",
       "\n",
       "                                              genres    imdb_id  popularity  \\\n",
       "0  [{'id': 18, 'name': 'Drama'}, {'id': 80, 'name...  tt0111161     111.250   \n",
       "1  [{'id': 18, 'name': 'Drama'}, {'id': 80, 'name...  tt0068646      45.416   \n",
       "2  [{'id': 18, 'name': 'Drama'}, {'id': 28, 'name...  tt0468569      58.502   \n",
       "3  [{'id': 18, 'name': 'Drama'}, {'id': 80, 'name...  tt0071562      33.582   \n",
       "4                      [{'id': 18, 'name': 'Drama'}]  tt0050083      24.822   \n",
       "\n",
       "   vote_average  vote_count  \n",
       "0           8.7       18845  \n",
       "1           8.7       14225  \n",
       "2           8.5       24993  \n",
       "3           8.6        8488  \n",
       "4           8.5        5539  "
      ]
     },
     "execution_count": 69,
     "metadata": {},
     "output_type": "execute_result"
    }
   ],
   "source": [
    "movies.head()"
   ]
  },
  {
   "cell_type": "code",
   "execution_count": 70,
   "metadata": {},
   "outputs": [
    {
     "data": {
      "text/html": [
       "<div>\n",
       "<style scoped>\n",
       "    .dataframe tbody tr th:only-of-type {\n",
       "        vertical-align: middle;\n",
       "    }\n",
       "\n",
       "    .dataframe tbody tr th {\n",
       "        vertical-align: top;\n",
       "    }\n",
       "\n",
       "    .dataframe thead th {\n",
       "        text-align: right;\n",
       "    }\n",
       "</style>\n",
       "<table border=\"1\" class=\"dataframe\">\n",
       "  <thead>\n",
       "    <tr style=\"text-align: right;\">\n",
       "      <th></th>\n",
       "      <th>title</th>\n",
       "      <th>overviews</th>\n",
       "      <th>genres</th>\n",
       "      <th>imdb_id</th>\n",
       "      <th>popularity</th>\n",
       "      <th>vote_average</th>\n",
       "      <th>vote_count</th>\n",
       "    </tr>\n",
       "  </thead>\n",
       "  <tbody>\n",
       "    <tr>\n",
       "      <th>6647</th>\n",
       "      <td>Manos: The Hands of Fate</td>\n",
       "      <td>A family gets lost on the road and stumbles up...</td>\n",
       "      <td>[{'id': 27, 'name': 'Horror'}, {'id': 53, 'nam...</td>\n",
       "      <td>tt0060666</td>\n",
       "      <td>10.272</td>\n",
       "      <td>1.9</td>\n",
       "      <td>142</td>\n",
       "    </tr>\n",
       "    <tr>\n",
       "      <th>6648</th>\n",
       "      <td>Birdemic: Shock and Terror</td>\n",
       "      <td>A platoon of eagles and vultures attacks the r...</td>\n",
       "      <td>[{'id': 27, 'name': 'Horror'}, {'id': 878, 'na...</td>\n",
       "      <td>tt1316037</td>\n",
       "      <td>9.624</td>\n",
       "      <td>2.2</td>\n",
       "      <td>220</td>\n",
       "    </tr>\n",
       "    <tr>\n",
       "      <th>6649</th>\n",
       "      <td>Pledge This!</td>\n",
       "      <td>At popular South Beach University, filthy rich...</td>\n",
       "      <td>[{'id': 35, 'name': 'Comedy'}]</td>\n",
       "      <td>tt0417056</td>\n",
       "      <td>9.372</td>\n",
       "      <td>2.8</td>\n",
       "      <td>71</td>\n",
       "    </tr>\n",
       "    <tr>\n",
       "      <th>6650</th>\n",
       "      <td>Going Overboard</td>\n",
       "      <td>A struggling young comedian takes a menial job...</td>\n",
       "      <td>[{'id': 35, 'name': 'Comedy'}]</td>\n",
       "      <td>tt0096870</td>\n",
       "      <td>9.489</td>\n",
       "      <td>2.5</td>\n",
       "      <td>92</td>\n",
       "    </tr>\n",
       "    <tr>\n",
       "      <th>6651</th>\n",
       "      <td>Saving Christmas</td>\n",
       "      <td>Kirk is enjoying the annual Christmas party ex...</td>\n",
       "      <td>[{'id': 35, 'name': 'Comedy'}, {'id': 10751, '...</td>\n",
       "      <td>tt4009460</td>\n",
       "      <td>6.087</td>\n",
       "      <td>1.9</td>\n",
       "      <td>57</td>\n",
       "    </tr>\n",
       "  </tbody>\n",
       "</table>\n",
       "</div>"
      ],
      "text/plain": [
       "                           title  \\\n",
       "6647    Manos: The Hands of Fate   \n",
       "6648  Birdemic: Shock and Terror   \n",
       "6649                Pledge This!   \n",
       "6650             Going Overboard   \n",
       "6651            Saving Christmas   \n",
       "\n",
       "                                              overviews  \\\n",
       "6647  A family gets lost on the road and stumbles up...   \n",
       "6648  A platoon of eagles and vultures attacks the r...   \n",
       "6649  At popular South Beach University, filthy rich...   \n",
       "6650  A struggling young comedian takes a menial job...   \n",
       "6651  Kirk is enjoying the annual Christmas party ex...   \n",
       "\n",
       "                                                 genres    imdb_id  \\\n",
       "6647  [{'id': 27, 'name': 'Horror'}, {'id': 53, 'nam...  tt0060666   \n",
       "6648  [{'id': 27, 'name': 'Horror'}, {'id': 878, 'na...  tt1316037   \n",
       "6649                     [{'id': 35, 'name': 'Comedy'}]  tt0417056   \n",
       "6650                     [{'id': 35, 'name': 'Comedy'}]  tt0096870   \n",
       "6651  [{'id': 35, 'name': 'Comedy'}, {'id': 10751, '...  tt4009460   \n",
       "\n",
       "      popularity  vote_average  vote_count  \n",
       "6647      10.272           1.9         142  \n",
       "6648       9.624           2.2         220  \n",
       "6649       9.372           2.8          71  \n",
       "6650       9.489           2.5          92  \n",
       "6651       6.087           1.9          57  "
      ]
     },
     "execution_count": 70,
     "metadata": {},
     "output_type": "execute_result"
    }
   ],
   "source": [
    "movies.tail()"
   ]
  },
  {
   "cell_type": "code",
   "execution_count": 72,
   "metadata": {},
   "outputs": [],
   "source": [
    "movies.to_csv('../data/api_data.csv', index=False)"
   ]
  },
  {
   "cell_type": "markdown",
   "metadata": {},
   "source": [
    "## Pulling Director & Top 3 Cast Members "
   ]
  },
  {
   "cell_type": "code",
   "execution_count": 102,
   "metadata": {},
   "outputs": [],
   "source": [
    "movies = pd.read_csv('../data/api_data.csv')"
   ]
  },
  {
   "cell_type": "code",
   "execution_count": 91,
   "metadata": {},
   "outputs": [],
   "source": [
    "key = key = '5d02d5a46ec1558878df4206f7c74777'\n",
    "\n",
    "acts = []\n",
    "dirs = []\n",
    "\n",
    "\n",
    "for ref in refs:\n",
    "    url = f'https://api.themoviedb.org/3/movie/{ref}?api_key={key}&append_to_response=credits'\n",
    "    res = requests.get(url)\n",
    "    info = res.json()\n",
    "    \n",
    "    crew = info['credits']['crew']\n",
    "    cast = info['credits']['cast']\n",
    "   \n",
    "    stars = []\n",
    "    if len(cast) >= 3:\n",
    "        for i in range(3):\n",
    "            stars.append(cast[i]['name'])\n",
    "    else:\n",
    "        for i in range(len(cast)):\n",
    "            stars.append(cast[i]['name'])\n",
    "    \n",
    "    director = []\n",
    "    for i in range(len(crew)):\n",
    "        if crew[i]['job'] == 'Director':\n",
    "            director.append(crew[i]['name'])\n",
    "\n",
    "    acts.append(stars)\n",
    "    dirs.append(director)\n",
    "    sleep(0.3)\n",
    "    "
   ]
  },
  {
   "cell_type": "code",
   "execution_count": 98,
   "metadata": {},
   "outputs": [
    {
     "data": {
      "text/plain": [
       "[['Tim Robbins', 'Morgan Freeman', 'Bob Gunton'],\n",
       " ['Al Pacino', 'Marlon Brando', 'James Caan'],\n",
       " ['Christian Bale', 'Heath Ledger', 'Michael Caine'],\n",
       " ['Al Pacino', 'Robert De Niro', 'Robert Duvall'],\n",
       " ['Martin Balsam', 'John Fiedler', 'Lee J. Cobb']]"
      ]
     },
     "execution_count": 98,
     "metadata": {},
     "output_type": "execute_result"
    }
   ],
   "source": [
    "acts[:5]"
   ]
  },
  {
   "cell_type": "code",
   "execution_count": 97,
   "metadata": {},
   "outputs": [
    {
     "data": {
      "text/plain": [
       "[['Frank Darabont'],\n",
       " ['Francis Ford Coppola'],\n",
       " ['Christopher Nolan'],\n",
       " ['Francis Ford Coppola'],\n",
       " ['Sidney Lumet']]"
      ]
     },
     "execution_count": 97,
     "metadata": {},
     "output_type": "execute_result"
    }
   ],
   "source": [
    "dirs[:5]"
   ]
  },
  {
   "cell_type": "code",
   "execution_count": 103,
   "metadata": {},
   "outputs": [],
   "source": [
    "movies['cast'] = acts\n",
    "movies['director'] = dirs"
   ]
  },
  {
   "cell_type": "code",
   "execution_count": 104,
   "metadata": {},
   "outputs": [
    {
     "data": {
      "text/html": [
       "<div>\n",
       "<style scoped>\n",
       "    .dataframe tbody tr th:only-of-type {\n",
       "        vertical-align: middle;\n",
       "    }\n",
       "\n",
       "    .dataframe tbody tr th {\n",
       "        vertical-align: top;\n",
       "    }\n",
       "\n",
       "    .dataframe thead th {\n",
       "        text-align: right;\n",
       "    }\n",
       "</style>\n",
       "<table border=\"1\" class=\"dataframe\">\n",
       "  <thead>\n",
       "    <tr style=\"text-align: right;\">\n",
       "      <th></th>\n",
       "      <th>title</th>\n",
       "      <th>overviews</th>\n",
       "      <th>genres</th>\n",
       "      <th>imdb_id</th>\n",
       "      <th>popularity</th>\n",
       "      <th>vote_average</th>\n",
       "      <th>vote_count</th>\n",
       "      <th>cast</th>\n",
       "      <th>director</th>\n",
       "    </tr>\n",
       "  </thead>\n",
       "  <tbody>\n",
       "    <tr>\n",
       "      <th>0</th>\n",
       "      <td>The Shawshank Redemption</td>\n",
       "      <td>Framed in the 1940s for the double murder of h...</td>\n",
       "      <td>[{'id': 18, 'name': 'Drama'}, {'id': 80, 'name...</td>\n",
       "      <td>tt0111161</td>\n",
       "      <td>111.250</td>\n",
       "      <td>8.7</td>\n",
       "      <td>18845</td>\n",
       "      <td>[Tim Robbins, Morgan Freeman, Bob Gunton]</td>\n",
       "      <td>[Frank Darabont]</td>\n",
       "    </tr>\n",
       "    <tr>\n",
       "      <th>1</th>\n",
       "      <td>The Godfather</td>\n",
       "      <td>Spanning the years 1945 to 1955, a chronicle o...</td>\n",
       "      <td>[{'id': 18, 'name': 'Drama'}, {'id': 80, 'name...</td>\n",
       "      <td>tt0068646</td>\n",
       "      <td>45.416</td>\n",
       "      <td>8.7</td>\n",
       "      <td>14225</td>\n",
       "      <td>[Al Pacino, Marlon Brando, James Caan]</td>\n",
       "      <td>[Francis Ford Coppola]</td>\n",
       "    </tr>\n",
       "    <tr>\n",
       "      <th>2</th>\n",
       "      <td>The Dark Knight</td>\n",
       "      <td>Batman raises the stakes in his war on crime. ...</td>\n",
       "      <td>[{'id': 18, 'name': 'Drama'}, {'id': 28, 'name...</td>\n",
       "      <td>tt0468569</td>\n",
       "      <td>58.502</td>\n",
       "      <td>8.5</td>\n",
       "      <td>24993</td>\n",
       "      <td>[Christian Bale, Heath Ledger, Michael Caine]</td>\n",
       "      <td>[Christopher Nolan]</td>\n",
       "    </tr>\n",
       "    <tr>\n",
       "      <th>3</th>\n",
       "      <td>The Godfather: Part II</td>\n",
       "      <td>In the continuing saga of the Corleone crime f...</td>\n",
       "      <td>[{'id': 18, 'name': 'Drama'}, {'id': 80, 'name...</td>\n",
       "      <td>tt0071562</td>\n",
       "      <td>33.582</td>\n",
       "      <td>8.6</td>\n",
       "      <td>8488</td>\n",
       "      <td>[Al Pacino, Robert De Niro, Robert Duvall]</td>\n",
       "      <td>[Francis Ford Coppola]</td>\n",
       "    </tr>\n",
       "    <tr>\n",
       "      <th>4</th>\n",
       "      <td>12 Angry Men</td>\n",
       "      <td>The defense and the prosecution have rested an...</td>\n",
       "      <td>[{'id': 18, 'name': 'Drama'}]</td>\n",
       "      <td>tt0050083</td>\n",
       "      <td>24.822</td>\n",
       "      <td>8.5</td>\n",
       "      <td>5539</td>\n",
       "      <td>[Martin Balsam, John Fiedler, Lee J. Cobb]</td>\n",
       "      <td>[Sidney Lumet]</td>\n",
       "    </tr>\n",
       "  </tbody>\n",
       "</table>\n",
       "</div>"
      ],
      "text/plain": [
       "                      title  \\\n",
       "0  The Shawshank Redemption   \n",
       "1             The Godfather   \n",
       "2           The Dark Knight   \n",
       "3    The Godfather: Part II   \n",
       "4              12 Angry Men   \n",
       "\n",
       "                                           overviews  \\\n",
       "0  Framed in the 1940s for the double murder of h...   \n",
       "1  Spanning the years 1945 to 1955, a chronicle o...   \n",
       "2  Batman raises the stakes in his war on crime. ...   \n",
       "3  In the continuing saga of the Corleone crime f...   \n",
       "4  The defense and the prosecution have rested an...   \n",
       "\n",
       "                                              genres    imdb_id  popularity  \\\n",
       "0  [{'id': 18, 'name': 'Drama'}, {'id': 80, 'name...  tt0111161     111.250   \n",
       "1  [{'id': 18, 'name': 'Drama'}, {'id': 80, 'name...  tt0068646      45.416   \n",
       "2  [{'id': 18, 'name': 'Drama'}, {'id': 28, 'name...  tt0468569      58.502   \n",
       "3  [{'id': 18, 'name': 'Drama'}, {'id': 80, 'name...  tt0071562      33.582   \n",
       "4                      [{'id': 18, 'name': 'Drama'}]  tt0050083      24.822   \n",
       "\n",
       "   vote_average  vote_count                                           cast  \\\n",
       "0           8.7       18845      [Tim Robbins, Morgan Freeman, Bob Gunton]   \n",
       "1           8.7       14225         [Al Pacino, Marlon Brando, James Caan]   \n",
       "2           8.5       24993  [Christian Bale, Heath Ledger, Michael Caine]   \n",
       "3           8.6        8488     [Al Pacino, Robert De Niro, Robert Duvall]   \n",
       "4           8.5        5539     [Martin Balsam, John Fiedler, Lee J. Cobb]   \n",
       "\n",
       "                 director  \n",
       "0        [Frank Darabont]  \n",
       "1  [Francis Ford Coppola]  \n",
       "2     [Christopher Nolan]  \n",
       "3  [Francis Ford Coppola]  \n",
       "4          [Sidney Lumet]  "
      ]
     },
     "execution_count": 104,
     "metadata": {},
     "output_type": "execute_result"
    }
   ],
   "source": [
    "movies.head()"
   ]
  },
  {
   "cell_type": "code",
   "execution_count": 110,
   "metadata": {},
   "outputs": [],
   "source": [
    "movies.to_csv('../data/api_data.csv', index=False)"
   ]
  },
  {
   "cell_type": "markdown",
   "metadata": {},
   "source": [
    "# Cleaning  "
   ]
  },
  {
   "cell_type": "markdown",
   "metadata": {},
   "source": [
    "### Cleaning Director Column "
   ]
  },
  {
   "cell_type": "code",
   "execution_count": 120,
   "metadata": {},
   "outputs": [
    {
     "data": {
      "text/plain": [
       "365"
      ]
     },
     "execution_count": 120,
     "metadata": {},
     "output_type": "execute_result"
    }
   ],
   "source": [
    "# 365 movies have more than 1 director in the director column\n",
    "counter = 0\n",
    "for d in movies['director']:\n",
    "    if len(d) > 1:\n",
    "        counter += 1\n",
    "counter"
   ]
  },
  {
   "cell_type": "code",
   "execution_count": 182,
   "metadata": {},
   "outputs": [],
   "source": [
    "#function returns a list of strings, with each directors first name and last name joined\n",
    "#joining the first and last name will make each director's name unique when vectorizing\n",
    "def clean_list_name(df, col):\n",
    "    old = [name for name in df[col]]\n",
    "    new = []\n",
    "    for group in old:\n",
    "        joined = ''\n",
    "        for person in group:\n",
    "            joined += person.replace(' ', '') + ' '\n",
    "        new.append(joined)\n",
    "    return new"
   ]
  },
  {
   "cell_type": "code",
   "execution_count": 184,
   "metadata": {},
   "outputs": [],
   "source": [
    "movies['join_director'] = clean_list_name(movies, 'director')"
   ]
  },
  {
   "cell_type": "code",
   "execution_count": 186,
   "metadata": {},
   "outputs": [
    {
     "data": {
      "text/plain": [
       "0         FrankDarabont \n",
       "1    FrancisFordCoppola \n",
       "2      ChristopherNolan \n",
       "3    FrancisFordCoppola \n",
       "4           SidneyLumet \n",
       "Name: join_director, dtype: object"
      ]
     },
     "execution_count": 186,
     "metadata": {},
     "output_type": "execute_result"
    }
   ],
   "source": [
    "movies['join_director'][:5]"
   ]
  },
  {
   "cell_type": "markdown",
   "metadata": {},
   "source": [
    "### Cleaning Cast Column "
   ]
  },
  {
   "cell_type": "code",
   "execution_count": 188,
   "metadata": {},
   "outputs": [],
   "source": [
    "movies['join_cast'] = clean_list_name(movies, 'cast')"
   ]
  },
  {
   "cell_type": "code",
   "execution_count": 189,
   "metadata": {},
   "outputs": [
    {
     "data": {
      "text/plain": [
       "0        TimRobbins MorganFreeman BobGunton \n",
       "1           AlPacino MarlonBrando JamesCaan \n",
       "2    ChristianBale HeathLedger MichaelCaine \n",
       "3        AlPacino RobertDeNiro RobertDuvall \n",
       "4        MartinBalsam JohnFiedler LeeJ.Cobb \n",
       "Name: join_cast, dtype: object"
      ]
     },
     "execution_count": 189,
     "metadata": {},
     "output_type": "execute_result"
    }
   ],
   "source": [
    "movies['join_cast'][:5]"
   ]
  },
  {
   "cell_type": "code",
   "execution_count": null,
   "metadata": {},
   "outputs": [],
   "source": []
  },
  {
   "cell_type": "code",
   "execution_count": 194,
   "metadata": {},
   "outputs": [],
   "source": [
    "# exporting movies\n",
    "movies.to_csv('../data/api_data.csv', index=False)"
   ]
  },
  {
   "cell_type": "code",
   "execution_count": null,
   "metadata": {},
   "outputs": [],
   "source": []
  },
  {
   "cell_type": "code",
   "execution_count": null,
   "metadata": {},
   "outputs": [],
   "source": []
  },
  {
   "cell_type": "code",
   "execution_count": null,
   "metadata": {},
   "outputs": [],
   "source": []
  },
  {
   "cell_type": "code",
   "execution_count": null,
   "metadata": {},
   "outputs": [],
   "source": []
  },
  {
   "cell_type": "code",
   "execution_count": null,
   "metadata": {},
   "outputs": [],
   "source": [
    "#was running into issues with getting the writers of the movie, will come back to this\n",
    "write = []\n",
    "for i in range(len(crew)):\n",
    "    if crew[i]['job'] == 'Screenplay':\n",
    "            write.append(crew[i]['name'])\n",
    "    \n",
    "if len(write) == 0:\n",
    "    for i in range(len(crew)):\n",
    "        if crew[i]['job'] == 'Novel':\n",
    "            write.append(crew[i]['name'])"
   ]
  },
  {
   "cell_type": "code",
   "execution_count": 4,
   "metadata": {},
   "outputs": [],
   "source": [
    "df = pd.read_csv('../data/api_data.csv')\n",
    "db = pd.read_csv('../data/imdb_6k.csv')"
   ]
  },
  {
   "cell_type": "code",
   "execution_count": 6,
   "metadata": {},
   "outputs": [
    {
     "data": {
      "text/html": [
       "<div>\n",
       "<style scoped>\n",
       "    .dataframe tbody tr th:only-of-type {\n",
       "        vertical-align: middle;\n",
       "    }\n",
       "\n",
       "    .dataframe tbody tr th {\n",
       "        vertical-align: top;\n",
       "    }\n",
       "\n",
       "    .dataframe thead th {\n",
       "        text-align: right;\n",
       "    }\n",
       "</style>\n",
       "<table border=\"1\" class=\"dataframe\">\n",
       "  <thead>\n",
       "    <tr style=\"text-align: right;\">\n",
       "      <th></th>\n",
       "      <th>title</th>\n",
       "      <th>overviews</th>\n",
       "      <th>genres</th>\n",
       "      <th>imdb_id</th>\n",
       "      <th>popularity</th>\n",
       "      <th>vote_average</th>\n",
       "      <th>vote_count</th>\n",
       "      <th>cast</th>\n",
       "      <th>director</th>\n",
       "      <th>join_director</th>\n",
       "      <th>join_cast</th>\n",
       "    </tr>\n",
       "  </thead>\n",
       "  <tbody>\n",
       "    <tr>\n",
       "      <th>0</th>\n",
       "      <td>The Shawshank Redemption</td>\n",
       "      <td>Framed in the 1940s for the double murder of h...</td>\n",
       "      <td>[{'id': 18, 'name': 'Drama'}, {'id': 80, 'name...</td>\n",
       "      <td>tt0111161</td>\n",
       "      <td>111.250</td>\n",
       "      <td>8.7</td>\n",
       "      <td>18845</td>\n",
       "      <td>['Tim Robbins', 'Morgan Freeman', 'Bob Gunton']</td>\n",
       "      <td>['Frank Darabont']</td>\n",
       "      <td>FrankDarabont</td>\n",
       "      <td>TimRobbins MorganFreeman BobGunton</td>\n",
       "    </tr>\n",
       "    <tr>\n",
       "      <th>1</th>\n",
       "      <td>The Godfather</td>\n",
       "      <td>Spanning the years 1945 to 1955, a chronicle o...</td>\n",
       "      <td>[{'id': 18, 'name': 'Drama'}, {'id': 80, 'name...</td>\n",
       "      <td>tt0068646</td>\n",
       "      <td>45.416</td>\n",
       "      <td>8.7</td>\n",
       "      <td>14225</td>\n",
       "      <td>['Al Pacino', 'Marlon Brando', 'James Caan']</td>\n",
       "      <td>['Francis Ford Coppola']</td>\n",
       "      <td>FrancisFordCoppola</td>\n",
       "      <td>AlPacino MarlonBrando JamesCaan</td>\n",
       "    </tr>\n",
       "    <tr>\n",
       "      <th>2</th>\n",
       "      <td>The Dark Knight</td>\n",
       "      <td>Batman raises the stakes in his war on crime. ...</td>\n",
       "      <td>[{'id': 18, 'name': 'Drama'}, {'id': 28, 'name...</td>\n",
       "      <td>tt0468569</td>\n",
       "      <td>58.502</td>\n",
       "      <td>8.5</td>\n",
       "      <td>24993</td>\n",
       "      <td>['Christian Bale', 'Heath Ledger', 'Michael Ca...</td>\n",
       "      <td>['Christopher Nolan']</td>\n",
       "      <td>ChristopherNolan</td>\n",
       "      <td>ChristianBale HeathLedger MichaelCaine</td>\n",
       "    </tr>\n",
       "    <tr>\n",
       "      <th>3</th>\n",
       "      <td>The Godfather: Part II</td>\n",
       "      <td>In the continuing saga of the Corleone crime f...</td>\n",
       "      <td>[{'id': 18, 'name': 'Drama'}, {'id': 80, 'name...</td>\n",
       "      <td>tt0071562</td>\n",
       "      <td>33.582</td>\n",
       "      <td>8.6</td>\n",
       "      <td>8488</td>\n",
       "      <td>['Al Pacino', 'Robert De Niro', 'Robert Duvall']</td>\n",
       "      <td>['Francis Ford Coppola']</td>\n",
       "      <td>FrancisFordCoppola</td>\n",
       "      <td>AlPacino RobertDeNiro RobertDuvall</td>\n",
       "    </tr>\n",
       "    <tr>\n",
       "      <th>4</th>\n",
       "      <td>12 Angry Men</td>\n",
       "      <td>The defense and the prosecution have rested an...</td>\n",
       "      <td>[{'id': 18, 'name': 'Drama'}]</td>\n",
       "      <td>tt0050083</td>\n",
       "      <td>24.822</td>\n",
       "      <td>8.5</td>\n",
       "      <td>5539</td>\n",
       "      <td>['Martin Balsam', 'John Fiedler', 'Lee J. Cobb']</td>\n",
       "      <td>['Sidney Lumet']</td>\n",
       "      <td>SidneyLumet</td>\n",
       "      <td>MartinBalsam JohnFiedler LeeJ.Cobb</td>\n",
       "    </tr>\n",
       "  </tbody>\n",
       "</table>\n",
       "</div>"
      ],
      "text/plain": [
       "                      title  \\\n",
       "0  The Shawshank Redemption   \n",
       "1             The Godfather   \n",
       "2           The Dark Knight   \n",
       "3    The Godfather: Part II   \n",
       "4              12 Angry Men   \n",
       "\n",
       "                                           overviews  \\\n",
       "0  Framed in the 1940s for the double murder of h...   \n",
       "1  Spanning the years 1945 to 1955, a chronicle o...   \n",
       "2  Batman raises the stakes in his war on crime. ...   \n",
       "3  In the continuing saga of the Corleone crime f...   \n",
       "4  The defense and the prosecution have rested an...   \n",
       "\n",
       "                                              genres    imdb_id  popularity  \\\n",
       "0  [{'id': 18, 'name': 'Drama'}, {'id': 80, 'name...  tt0111161     111.250   \n",
       "1  [{'id': 18, 'name': 'Drama'}, {'id': 80, 'name...  tt0068646      45.416   \n",
       "2  [{'id': 18, 'name': 'Drama'}, {'id': 28, 'name...  tt0468569      58.502   \n",
       "3  [{'id': 18, 'name': 'Drama'}, {'id': 80, 'name...  tt0071562      33.582   \n",
       "4                      [{'id': 18, 'name': 'Drama'}]  tt0050083      24.822   \n",
       "\n",
       "   vote_average  vote_count  \\\n",
       "0           8.7       18845   \n",
       "1           8.7       14225   \n",
       "2           8.5       24993   \n",
       "3           8.6        8488   \n",
       "4           8.5        5539   \n",
       "\n",
       "                                                cast  \\\n",
       "0    ['Tim Robbins', 'Morgan Freeman', 'Bob Gunton']   \n",
       "1       ['Al Pacino', 'Marlon Brando', 'James Caan']   \n",
       "2  ['Christian Bale', 'Heath Ledger', 'Michael Ca...   \n",
       "3   ['Al Pacino', 'Robert De Niro', 'Robert Duvall']   \n",
       "4   ['Martin Balsam', 'John Fiedler', 'Lee J. Cobb']   \n",
       "\n",
       "                   director        join_director  \\\n",
       "0        ['Frank Darabont']       FrankDarabont    \n",
       "1  ['Francis Ford Coppola']  FrancisFordCoppola    \n",
       "2     ['Christopher Nolan']    ChristopherNolan    \n",
       "3  ['Francis Ford Coppola']  FrancisFordCoppola    \n",
       "4          ['Sidney Lumet']         SidneyLumet    \n",
       "\n",
       "                                 join_cast  \n",
       "0      TimRobbins MorganFreeman BobGunton   \n",
       "1         AlPacino MarlonBrando JamesCaan   \n",
       "2  ChristianBale HeathLedger MichaelCaine   \n",
       "3      AlPacino RobertDeNiro RobertDuvall   \n",
       "4      MartinBalsam JohnFiedler LeeJ.Cobb   "
      ]
     },
     "execution_count": 6,
     "metadata": {},
     "output_type": "execute_result"
    }
   ],
   "source": [
    "df.head()"
   ]
  },
  {
   "cell_type": "code",
   "execution_count": null,
   "metadata": {},
   "outputs": [],
   "source": []
  }
 ],
 "metadata": {
  "kernelspec": {
   "display_name": "Python 3",
   "language": "python",
   "name": "python3"
  },
  "language_info": {
   "codemirror_mode": {
    "name": "ipython",
    "version": 3
   },
   "file_extension": ".py",
   "mimetype": "text/x-python",
   "name": "python",
   "nbconvert_exporter": "python",
   "pygments_lexer": "ipython3",
   "version": "3.8.5"
  }
 },
 "nbformat": 4,
 "nbformat_minor": 4
}
