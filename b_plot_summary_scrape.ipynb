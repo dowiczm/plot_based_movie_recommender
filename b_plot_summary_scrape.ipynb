{
 "cells": [
  {
   "cell_type": "code",
   "execution_count": 1,
   "metadata": {},
   "outputs": [],
   "source": [
    "import pandas as pd\n",
    "import numpy as np\n",
    "\n",
    "import requests\n",
    "from bs4 import BeautifulSoup"
   ]
  },
  {
   "cell_type": "code",
   "execution_count": 8,
   "metadata": {},
   "outputs": [
    {
     "data": {
      "text/plain": [
       "(6652, 3)"
      ]
     },
     "execution_count": 8,
     "metadata": {},
     "output_type": "execute_result"
    }
   ],
   "source": [
    "movies = pd.read_csv('../data/imdb_top_6652.csv')\n",
    "movies.shape"
   ]
  },
  {
   "cell_type": "markdown",
   "metadata": {},
   "source": [
    "## Grabbing User Plot Summaries "
   ]
  },
  {
   "cell_type": "code",
   "execution_count": 10,
   "metadata": {},
   "outputs": [],
   "source": [
    "refs = [ref for ref in movies['href']]\n",
    "\n",
    "plot_summaries = []\n",
    "for i in refs:\n",
    "    url = f'https://www.imdb.com{i}plotsummary'\n",
    "    res = requests.get(url)\n",
    "    soup = BeautifulSoup(res.content, 'lxml')\n",
    "    for i in soup.find_all('ul'):\n",
    "        try:\n",
    "            if i['id'] == 'plot-summaries-content':\n",
    "                sums = i\n",
    "                plots = []\n",
    "                for plot in sums.find_all('p'):\n",
    "                    plots.append(plot.text)\n",
    "                plot_summaries.append(plots)\n",
    "        except:\n",
    "            pass"
   ]
  },
  {
   "cell_type": "code",
   "execution_count": 17,
   "metadata": {},
   "outputs": [],
   "source": [
    "movies['user_plots'] = plot_summaries"
   ]
  },
  {
   "cell_type": "code",
   "execution_count": 18,
   "metadata": {},
   "outputs": [
    {
     "data": {
      "text/html": [
       "<div>\n",
       "<style scoped>\n",
       "    .dataframe tbody tr th:only-of-type {\n",
       "        vertical-align: middle;\n",
       "    }\n",
       "\n",
       "    .dataframe tbody tr th {\n",
       "        vertical-align: top;\n",
       "    }\n",
       "\n",
       "    .dataframe thead th {\n",
       "        text-align: right;\n",
       "    }\n",
       "</style>\n",
       "<table border=\"1\" class=\"dataframe\">\n",
       "  <thead>\n",
       "    <tr style=\"text-align: right;\">\n",
       "      <th></th>\n",
       "      <th>href</th>\n",
       "      <th>title</th>\n",
       "      <th>genre</th>\n",
       "      <th>user_plots</th>\n",
       "    </tr>\n",
       "  </thead>\n",
       "  <tbody>\n",
       "    <tr>\n",
       "      <th>0</th>\n",
       "      <td>/title/tt0111161/</td>\n",
       "      <td>The Shawshank Redemption</td>\n",
       "      <td>Drama</td>\n",
       "      <td>[Two imprisoned men bond over a number of year...</td>\n",
       "    </tr>\n",
       "    <tr>\n",
       "      <th>1</th>\n",
       "      <td>/title/tt0068646/</td>\n",
       "      <td>The Godfather</td>\n",
       "      <td>Crime Drama</td>\n",
       "      <td>[An organized crime dynasty's aging patriarch ...</td>\n",
       "    </tr>\n",
       "    <tr>\n",
       "      <th>2</th>\n",
       "      <td>/title/tt0468569/</td>\n",
       "      <td>The Dark Knight</td>\n",
       "      <td>Action Crime Drama</td>\n",
       "      <td>[When the menace known as the Joker wreaks hav...</td>\n",
       "    </tr>\n",
       "    <tr>\n",
       "      <th>3</th>\n",
       "      <td>/title/tt0071562/</td>\n",
       "      <td>The Godfather: Part II</td>\n",
       "      <td>Crime Drama</td>\n",
       "      <td>[The early life and career of Vito Corleone in...</td>\n",
       "    </tr>\n",
       "    <tr>\n",
       "      <th>4</th>\n",
       "      <td>/title/tt0050083/</td>\n",
       "      <td>12 Angry Men</td>\n",
       "      <td>Crime Drama</td>\n",
       "      <td>[A jury holdout attempts to prevent a miscarri...</td>\n",
       "    </tr>\n",
       "  </tbody>\n",
       "</table>\n",
       "</div>"
      ],
      "text/plain": [
       "                href                     title               genre  \\\n",
       "0  /title/tt0111161/  The Shawshank Redemption               Drama   \n",
       "1  /title/tt0068646/             The Godfather         Crime Drama   \n",
       "2  /title/tt0468569/           The Dark Knight  Action Crime Drama   \n",
       "3  /title/tt0071562/    The Godfather: Part II         Crime Drama   \n",
       "4  /title/tt0050083/              12 Angry Men         Crime Drama   \n",
       "\n",
       "                                          user_plots  \n",
       "0  [Two imprisoned men bond over a number of year...  \n",
       "1  [An organized crime dynasty's aging patriarch ...  \n",
       "2  [When the menace known as the Joker wreaks hav...  \n",
       "3  [The early life and career of Vito Corleone in...  \n",
       "4  [A jury holdout attempts to prevent a miscarri...  "
      ]
     },
     "execution_count": 18,
     "metadata": {},
     "output_type": "execute_result"
    }
   ],
   "source": [
    "movies.head()"
   ]
  },
  {
   "cell_type": "markdown",
   "metadata": {},
   "source": [
    "## Grabbing IMDb Full Synopsis"
   ]
  },
  {
   "cell_type": "code",
   "execution_count": 118,
   "metadata": {},
   "outputs": [],
   "source": [
    "synopsi = []\n",
    "for ref in refs:\n",
    "    url = f'https://www.imdb.com{ref}plotsummary'\n",
    "    res = requests.get(url)\n",
    "    soup = BeautifulSoup(res.content, 'lxml')\n",
    "    synopsis = []\n",
    "    for i in soup.find_all('ul'):\n",
    "        try:\n",
    "            if i['id'] == 'plot-synopsis-content':\n",
    "                for para in i.find_all('li'):\n",
    "                    syn = para.get_text()\n",
    "                    synopsis.append(str(syn))\n",
    "        except:\n",
    "            pass\n",
    "    synopsi.append(synopsis[0])"
   ]
  },
  {
   "cell_type": "code",
   "execution_count": 120,
   "metadata": {},
   "outputs": [],
   "source": [
    "movies['synopsis'] = synopsi"
   ]
  },
  {
   "cell_type": "code",
   "execution_count": 140,
   "metadata": {},
   "outputs": [
    {
     "data": {
      "text/html": [
       "<div>\n",
       "<style scoped>\n",
       "    .dataframe tbody tr th:only-of-type {\n",
       "        vertical-align: middle;\n",
       "    }\n",
       "\n",
       "    .dataframe tbody tr th {\n",
       "        vertical-align: top;\n",
       "    }\n",
       "\n",
       "    .dataframe thead th {\n",
       "        text-align: right;\n",
       "    }\n",
       "</style>\n",
       "<table border=\"1\" class=\"dataframe\">\n",
       "  <thead>\n",
       "    <tr style=\"text-align: right;\">\n",
       "      <th></th>\n",
       "      <th>href</th>\n",
       "      <th>title</th>\n",
       "      <th>genre</th>\n",
       "      <th>user_plots</th>\n",
       "      <th>synopsis</th>\n",
       "    </tr>\n",
       "  </thead>\n",
       "  <tbody>\n",
       "    <tr>\n",
       "      <th>0</th>\n",
       "      <td>/title/tt0111161/</td>\n",
       "      <td>The Shawshank Redemption</td>\n",
       "      <td>Drama</td>\n",
       "      <td>[Two imprisoned men bond over a number of year...</td>\n",
       "      <td>In 1947, Andy Dufresne (Tim Robbins), a banker...</td>\n",
       "    </tr>\n",
       "    <tr>\n",
       "      <th>1</th>\n",
       "      <td>/title/tt0068646/</td>\n",
       "      <td>The Godfather</td>\n",
       "      <td>Crime Drama</td>\n",
       "      <td>[An organized crime dynasty's aging patriarch ...</td>\n",
       "      <td>In late summer 1945, guests are gathered for t...</td>\n",
       "    </tr>\n",
       "    <tr>\n",
       "      <th>2</th>\n",
       "      <td>/title/tt0468569/</td>\n",
       "      <td>The Dark Knight</td>\n",
       "      <td>Action Crime Drama</td>\n",
       "      <td>[When the menace known as the Joker wreaks hav...</td>\n",
       "      <td>The movie begins with a gang of men with clown...</td>\n",
       "    </tr>\n",
       "    <tr>\n",
       "      <th>3</th>\n",
       "      <td>/title/tt0071562/</td>\n",
       "      <td>The Godfather: Part II</td>\n",
       "      <td>Crime Drama</td>\n",
       "      <td>[The early life and career of Vito Corleone in...</td>\n",
       "      <td>The Godfather Part II presents two parallel st...</td>\n",
       "    </tr>\n",
       "    <tr>\n",
       "      <th>4</th>\n",
       "      <td>/title/tt0050083/</td>\n",
       "      <td>12 Angry Men</td>\n",
       "      <td>Crime Drama</td>\n",
       "      <td>[A jury holdout attempts to prevent a miscarri...</td>\n",
       "      <td>In a New York City courthouse, an eighteen-yea...</td>\n",
       "    </tr>\n",
       "  </tbody>\n",
       "</table>\n",
       "</div>"
      ],
      "text/plain": [
       "                href                     title               genre  \\\n",
       "0  /title/tt0111161/  The Shawshank Redemption               Drama   \n",
       "1  /title/tt0068646/             The Godfather         Crime Drama   \n",
       "2  /title/tt0468569/           The Dark Knight  Action Crime Drama   \n",
       "3  /title/tt0071562/    The Godfather: Part II         Crime Drama   \n",
       "4  /title/tt0050083/              12 Angry Men         Crime Drama   \n",
       "\n",
       "                                          user_plots  \\\n",
       "0  [Two imprisoned men bond over a number of year...   \n",
       "1  [An organized crime dynasty's aging patriarch ...   \n",
       "2  [When the menace known as the Joker wreaks hav...   \n",
       "3  [The early life and career of Vito Corleone in...   \n",
       "4  [A jury holdout attempts to prevent a miscarri...   \n",
       "\n",
       "                                            synopsis  \n",
       "0  In 1947, Andy Dufresne (Tim Robbins), a banker...  \n",
       "1  In late summer 1945, guests are gathered for t...  \n",
       "2  The movie begins with a gang of men with clown...  \n",
       "3  The Godfather Part II presents two parallel st...  \n",
       "4  In a New York City courthouse, an eighteen-yea...  "
      ]
     },
     "execution_count": 140,
     "metadata": {},
     "output_type": "execute_result"
    }
   ],
   "source": [
    "movies.head()"
   ]
  },
  {
   "cell_type": "code",
   "execution_count": 124,
   "metadata": {},
   "outputs": [],
   "source": [
    "movies.to_csv('../data/imdb_6k.csv')"
   ]
  },
  {
   "cell_type": "markdown",
   "metadata": {},
   "source": [
    "## Grabbing Directors, Writers, Stars"
   ]
  },
  {
   "cell_type": "code",
   "execution_count": 3,
   "metadata": {},
   "outputs": [],
   "source": [
    "movies = pd.read_csv('../data/imdb_6k.csv')\n",
    "refs = [ref for ref in movies['href']]"
   ]
  },
  {
   "cell_type": "code",
   "execution_count": 50,
   "metadata": {},
   "outputs": [],
   "source": [
    "#all info will be a list of lists that contains the director, writers and starts of every film in my movie df\n",
    "\n",
    "all_info = []\n",
    "for ref in refs:\n",
    "    url = f'https://www.imdb.com{ref}'\n",
    "    res = requests.get(url)\n",
    "    soup = BeautifulSoup(res.content, 'lxml')\n",
    "    movie_info = []\n",
    "    for text in soup.find_all('div', {'class' : 'credit_summary_item'}):\n",
    "        try:\n",
    "            movie_info.append(text.get_text(strip=True))\n",
    "        except:\n",
    "            pass\n",
    "    all_info.append(movie_info)"
   ]
  },
  {
   "cell_type": "code",
   "execution_count": 68,
   "metadata": {},
   "outputs": [
    {
     "data": {
      "text/plain": [
       "['Director:Frank Darabont',\n",
       " 'Writers:Stephen King(short story \"Rita Hayworth and Shawshank Redemption\"),Frank Darabont(screenplay)',\n",
       " 'Stars:Tim Robbins,Morgan Freeman,Bob Gunton|See full cast & crew»']"
      ]
     },
     "execution_count": 68,
     "metadata": {},
     "output_type": "execute_result"
    }
   ],
   "source": [
    "#example of the first list within all_info\n",
    "all_info[0]"
   ]
  },
  {
   "cell_type": "code",
   "execution_count": 71,
   "metadata": {},
   "outputs": [
    {
     "name": "stdout",
     "output_type": "stream",
     "text": [
      "70\n"
     ]
    }
   ],
   "source": [
    "#index 70 does not contain 3 lists (director, writers, stars)\n",
    "for i in range(len(all_info)):\n",
    "    if len(all_info[i]) != 3:\n",
    "        print(i)"
   ]
  },
  {
   "cell_type": "code",
   "execution_count": 76,
   "metadata": {},
   "outputs": [
    {
     "data": {
      "text/plain": [
       "(\"It's Such a Beautiful Day\", ['Director:Don Hertzfeldt'])"
      ]
     },
     "execution_count": 76,
     "metadata": {},
     "output_type": "execute_result"
    }
   ],
   "source": [
    "#this movie only has the director, will fill empty slots with 'NONE' for now for simplicity\n",
    "#will potentially drop film later on as its a short animated film and does not necessarily fit in with the others\n",
    "movies['title'][70], all_info[70]"
   ]
  },
  {
   "cell_type": "code",
   "execution_count": 95,
   "metadata": {},
   "outputs": [],
   "source": [
    "#commented this cell out to avoid appending to the list again\n",
    "\n",
    "#all_info[70].append('NONE')\n",
    "#all_info[70].append('NONE')"
   ]
  },
  {
   "cell_type": "code",
   "execution_count": 103,
   "metadata": {},
   "outputs": [
    {
     "data": {
      "text/plain": [
       "['Director:Don Hertzfeldt', 'NONE', 'NONE']"
      ]
     },
     "execution_count": 103,
     "metadata": {},
     "output_type": "execute_result"
    }
   ],
   "source": [
    "all_info[70]"
   ]
  },
  {
   "cell_type": "code",
   "execution_count": 98,
   "metadata": {},
   "outputs": [],
   "source": [
    "directors = [all_info[i][0] for i in range(len(all_info))]\n",
    "writers = [all_info[i][1] for i in range(len(all_info))]\n",
    "stars = [all_info[i][2] for i in range(len(all_info))]"
   ]
  },
  {
   "cell_type": "code",
   "execution_count": 101,
   "metadata": {},
   "outputs": [
    {
     "data": {
      "text/plain": [
       "(6652, 6652, 6652)"
      ]
     },
     "execution_count": 101,
     "metadata": {},
     "output_type": "execute_result"
    }
   ],
   "source": [
    "#all lists are the same length, aka each movie is accounted for\n",
    "len(directors), len(writers), len(stars)"
   ]
  },
  {
   "cell_type": "code",
   "execution_count": 102,
   "metadata": {},
   "outputs": [],
   "source": [
    "#each list in all info now has 3 values (director, writers, stars)\n",
    "for i in range(len(all_info)):\n",
    "    if len(all_info[i]) != 3:\n",
    "        print(i)"
   ]
  },
  {
   "cell_type": "code",
   "execution_count": 105,
   "metadata": {},
   "outputs": [],
   "source": [
    "movies['director'] = directors\n",
    "movies['writers'] = writers\n",
    "movies['stars'] = stars"
   ]
  },
  {
   "cell_type": "code",
   "execution_count": 107,
   "metadata": {},
   "outputs": [],
   "source": [
    "movies.drop(columns='Unnamed: 0', inplace=True)"
   ]
  },
  {
   "cell_type": "code",
   "execution_count": 109,
   "metadata": {},
   "outputs": [
    {
     "data": {
      "text/html": [
       "<div>\n",
       "<style scoped>\n",
       "    .dataframe tbody tr th:only-of-type {\n",
       "        vertical-align: middle;\n",
       "    }\n",
       "\n",
       "    .dataframe tbody tr th {\n",
       "        vertical-align: top;\n",
       "    }\n",
       "\n",
       "    .dataframe thead th {\n",
       "        text-align: right;\n",
       "    }\n",
       "</style>\n",
       "<table border=\"1\" class=\"dataframe\">\n",
       "  <thead>\n",
       "    <tr style=\"text-align: right;\">\n",
       "      <th></th>\n",
       "      <th>href</th>\n",
       "      <th>title</th>\n",
       "      <th>genre</th>\n",
       "      <th>user_plots</th>\n",
       "      <th>synopsis</th>\n",
       "      <th>director</th>\n",
       "      <th>writers</th>\n",
       "      <th>stars</th>\n",
       "    </tr>\n",
       "  </thead>\n",
       "  <tbody>\n",
       "    <tr>\n",
       "      <th>0</th>\n",
       "      <td>/title/tt0111161/</td>\n",
       "      <td>The Shawshank Redemption</td>\n",
       "      <td>Drama</td>\n",
       "      <td>['Two imprisoned men bond over a number of yea...</td>\n",
       "      <td>In 1947, Andy Dufresne (Tim Robbins), a banker...</td>\n",
       "      <td>Director:Frank Darabont</td>\n",
       "      <td>Writers:Stephen King(short story \"Rita Haywort...</td>\n",
       "      <td>Stars:Tim Robbins,Morgan Freeman,Bob Gunton|Se...</td>\n",
       "    </tr>\n",
       "    <tr>\n",
       "      <th>1</th>\n",
       "      <td>/title/tt0068646/</td>\n",
       "      <td>The Godfather</td>\n",
       "      <td>Crime Drama</td>\n",
       "      <td>[\"An organized crime dynasty's aging patriarch...</td>\n",
       "      <td>In late summer 1945, guests are gathered for t...</td>\n",
       "      <td>Director:Francis Ford Coppola</td>\n",
       "      <td>Writers:Mario Puzo(screenplay by),Francis Ford...</td>\n",
       "      <td>Stars:Marlon Brando,Al Pacino,James Caan|See f...</td>\n",
       "    </tr>\n",
       "    <tr>\n",
       "      <th>2</th>\n",
       "      <td>/title/tt0468569/</td>\n",
       "      <td>The Dark Knight</td>\n",
       "      <td>Action Crime Drama</td>\n",
       "      <td>['When the menace known as the Joker wreaks ha...</td>\n",
       "      <td>The movie begins with a gang of men with clown...</td>\n",
       "      <td>Director:Christopher Nolan</td>\n",
       "      <td>Writers:Jonathan Nolan(screenplay),Christopher...</td>\n",
       "      <td>Stars:Christian Bale,Heath Ledger,Aaron Eckhar...</td>\n",
       "    </tr>\n",
       "    <tr>\n",
       "      <th>3</th>\n",
       "      <td>/title/tt0071562/</td>\n",
       "      <td>The Godfather: Part II</td>\n",
       "      <td>Crime Drama</td>\n",
       "      <td>['The early life and career of Vito Corleone i...</td>\n",
       "      <td>The Godfather Part II presents two parallel st...</td>\n",
       "      <td>Director:Francis Ford Coppola</td>\n",
       "      <td>Writers:Francis Ford Coppola(screenplay by),Ma...</td>\n",
       "      <td>Stars:Al Pacino,Robert De Niro,Robert Duvall|S...</td>\n",
       "    </tr>\n",
       "    <tr>\n",
       "      <th>4</th>\n",
       "      <td>/title/tt0050083/</td>\n",
       "      <td>12 Angry Men</td>\n",
       "      <td>Crime Drama</td>\n",
       "      <td>['A jury holdout attempts to prevent a miscarr...</td>\n",
       "      <td>In a New York City courthouse, an eighteen-yea...</td>\n",
       "      <td>Director:Sidney Lumet</td>\n",
       "      <td>Writers:Reginald Rose(story),Reginald Rose(scr...</td>\n",
       "      <td>Stars:Henry Fonda,Lee J. Cobb,Martin Balsam|Se...</td>\n",
       "    </tr>\n",
       "  </tbody>\n",
       "</table>\n",
       "</div>"
      ],
      "text/plain": [
       "                href                     title               genre  \\\n",
       "0  /title/tt0111161/  The Shawshank Redemption               Drama   \n",
       "1  /title/tt0068646/             The Godfather         Crime Drama   \n",
       "2  /title/tt0468569/           The Dark Knight  Action Crime Drama   \n",
       "3  /title/tt0071562/    The Godfather: Part II         Crime Drama   \n",
       "4  /title/tt0050083/              12 Angry Men         Crime Drama   \n",
       "\n",
       "                                          user_plots  \\\n",
       "0  ['Two imprisoned men bond over a number of yea...   \n",
       "1  [\"An organized crime dynasty's aging patriarch...   \n",
       "2  ['When the menace known as the Joker wreaks ha...   \n",
       "3  ['The early life and career of Vito Corleone i...   \n",
       "4  ['A jury holdout attempts to prevent a miscarr...   \n",
       "\n",
       "                                            synopsis  \\\n",
       "0  In 1947, Andy Dufresne (Tim Robbins), a banker...   \n",
       "1  In late summer 1945, guests are gathered for t...   \n",
       "2  The movie begins with a gang of men with clown...   \n",
       "3  The Godfather Part II presents two parallel st...   \n",
       "4  In a New York City courthouse, an eighteen-yea...   \n",
       "\n",
       "                        director  \\\n",
       "0        Director:Frank Darabont   \n",
       "1  Director:Francis Ford Coppola   \n",
       "2     Director:Christopher Nolan   \n",
       "3  Director:Francis Ford Coppola   \n",
       "4          Director:Sidney Lumet   \n",
       "\n",
       "                                             writers  \\\n",
       "0  Writers:Stephen King(short story \"Rita Haywort...   \n",
       "1  Writers:Mario Puzo(screenplay by),Francis Ford...   \n",
       "2  Writers:Jonathan Nolan(screenplay),Christopher...   \n",
       "3  Writers:Francis Ford Coppola(screenplay by),Ma...   \n",
       "4  Writers:Reginald Rose(story),Reginald Rose(scr...   \n",
       "\n",
       "                                               stars  \n",
       "0  Stars:Tim Robbins,Morgan Freeman,Bob Gunton|Se...  \n",
       "1  Stars:Marlon Brando,Al Pacino,James Caan|See f...  \n",
       "2  Stars:Christian Bale,Heath Ledger,Aaron Eckhar...  \n",
       "3  Stars:Al Pacino,Robert De Niro,Robert Duvall|S...  \n",
       "4  Stars:Henry Fonda,Lee J. Cobb,Martin Balsam|Se...  "
      ]
     },
     "execution_count": 109,
     "metadata": {},
     "output_type": "execute_result"
    }
   ],
   "source": [
    "movies.head()"
   ]
  },
  {
   "cell_type": "code",
   "execution_count": 110,
   "metadata": {},
   "outputs": [],
   "source": [
    "#exporting new updated csv file \n",
    "movies.to_csv('../data/imdb_6k.csv', index=False)"
   ]
  }
 ],
 "metadata": {
  "kernelspec": {
   "display_name": "Python 3",
   "language": "python",
   "name": "python3"
  },
  "language_info": {
   "codemirror_mode": {
    "name": "ipython",
    "version": 3
   },
   "file_extension": ".py",
   "mimetype": "text/x-python",
   "name": "python",
   "nbconvert_exporter": "python",
   "pygments_lexer": "ipython3",
   "version": "3.8.5"
  }
 },
 "nbformat": 4,
 "nbformat_minor": 4
}
