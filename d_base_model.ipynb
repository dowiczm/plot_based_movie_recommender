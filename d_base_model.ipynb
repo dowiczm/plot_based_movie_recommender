{
 "cells": [
  {
   "cell_type": "code",
   "execution_count": 1,
   "metadata": {},
   "outputs": [],
   "source": [
    "import pandas as pd\n",
    "import numpy as np\n",
    "\n",
    "from sklearn.feature_extraction.text import TfidfVectorizer\n",
    "from nltk import tokenize\n",
    "\n",
    "import sklearn"
   ]
  },
  {
   "cell_type": "markdown",
   "metadata": {},
   "source": [
    "### Reading in Data "
   ]
  },
  {
   "cell_type": "code",
   "execution_count": 2,
   "metadata": {},
   "outputs": [],
   "source": [
    "api = pd.read_csv('../data/api_data.csv')\n",
    "imdb = pd.read_csv('../data/imdb_6k.csv')"
   ]
  },
  {
   "cell_type": "code",
   "execution_count": 4,
   "metadata": {},
   "outputs": [
    {
     "data": {
      "text/plain": [
       "((6652, 8), (6652, 11))"
      ]
     },
     "execution_count": 4,
     "metadata": {},
     "output_type": "execute_result"
    }
   ],
   "source": [
    "imdb.shape, api.shape"
   ]
  },
  {
   "cell_type": "code",
   "execution_count": 5,
   "metadata": {},
   "outputs": [
    {
     "data": {
      "text/html": [
       "<div>\n",
       "<style scoped>\n",
       "    .dataframe tbody tr th:only-of-type {\n",
       "        vertical-align: middle;\n",
       "    }\n",
       "\n",
       "    .dataframe tbody tr th {\n",
       "        vertical-align: top;\n",
       "    }\n",
       "\n",
       "    .dataframe thead th {\n",
       "        text-align: right;\n",
       "    }\n",
       "</style>\n",
       "<table border=\"1\" class=\"dataframe\">\n",
       "  <thead>\n",
       "    <tr style=\"text-align: right;\">\n",
       "      <th></th>\n",
       "      <th>href</th>\n",
       "      <th>title</th>\n",
       "      <th>genre</th>\n",
       "      <th>user_plots</th>\n",
       "      <th>synopsis</th>\n",
       "      <th>director</th>\n",
       "      <th>writers</th>\n",
       "      <th>stars</th>\n",
       "    </tr>\n",
       "  </thead>\n",
       "  <tbody>\n",
       "    <tr>\n",
       "      <th>0</th>\n",
       "      <td>/title/tt0111161/</td>\n",
       "      <td>The Shawshank Redemption</td>\n",
       "      <td>Drama</td>\n",
       "      <td>['Two imprisoned men bond over a number of yea...</td>\n",
       "      <td>In 1947, Andy Dufresne (Tim Robbins), a banker...</td>\n",
       "      <td>Director:Frank Darabont</td>\n",
       "      <td>Writers:Stephen King(short story \"Rita Haywort...</td>\n",
       "      <td>Stars:Tim Robbins,Morgan Freeman,Bob Gunton|Se...</td>\n",
       "    </tr>\n",
       "    <tr>\n",
       "      <th>1</th>\n",
       "      <td>/title/tt0068646/</td>\n",
       "      <td>The Godfather</td>\n",
       "      <td>Crime Drama</td>\n",
       "      <td>[\"An organized crime dynasty's aging patriarch...</td>\n",
       "      <td>In late summer 1945, guests are gathered for t...</td>\n",
       "      <td>Director:Francis Ford Coppola</td>\n",
       "      <td>Writers:Mario Puzo(screenplay by),Francis Ford...</td>\n",
       "      <td>Stars:Marlon Brando,Al Pacino,James Caan|See f...</td>\n",
       "    </tr>\n",
       "  </tbody>\n",
       "</table>\n",
       "</div>"
      ],
      "text/plain": [
       "                href                     title        genre  \\\n",
       "0  /title/tt0111161/  The Shawshank Redemption        Drama   \n",
       "1  /title/tt0068646/             The Godfather  Crime Drama   \n",
       "\n",
       "                                          user_plots  \\\n",
       "0  ['Two imprisoned men bond over a number of yea...   \n",
       "1  [\"An organized crime dynasty's aging patriarch...   \n",
       "\n",
       "                                            synopsis  \\\n",
       "0  In 1947, Andy Dufresne (Tim Robbins), a banker...   \n",
       "1  In late summer 1945, guests are gathered for t...   \n",
       "\n",
       "                        director  \\\n",
       "0        Director:Frank Darabont   \n",
       "1  Director:Francis Ford Coppola   \n",
       "\n",
       "                                             writers  \\\n",
       "0  Writers:Stephen King(short story \"Rita Haywort...   \n",
       "1  Writers:Mario Puzo(screenplay by),Francis Ford...   \n",
       "\n",
       "                                               stars  \n",
       "0  Stars:Tim Robbins,Morgan Freeman,Bob Gunton|Se...  \n",
       "1  Stars:Marlon Brando,Al Pacino,James Caan|See f...  "
      ]
     },
     "execution_count": 5,
     "metadata": {},
     "output_type": "execute_result"
    }
   ],
   "source": [
    "imdb.head(2)"
   ]
  },
  {
   "cell_type": "code",
   "execution_count": 6,
   "metadata": {},
   "outputs": [
    {
     "data": {
      "text/html": [
       "<div>\n",
       "<style scoped>\n",
       "    .dataframe tbody tr th:only-of-type {\n",
       "        vertical-align: middle;\n",
       "    }\n",
       "\n",
       "    .dataframe tbody tr th {\n",
       "        vertical-align: top;\n",
       "    }\n",
       "\n",
       "    .dataframe thead th {\n",
       "        text-align: right;\n",
       "    }\n",
       "</style>\n",
       "<table border=\"1\" class=\"dataframe\">\n",
       "  <thead>\n",
       "    <tr style=\"text-align: right;\">\n",
       "      <th></th>\n",
       "      <th>title</th>\n",
       "      <th>overviews</th>\n",
       "      <th>genres</th>\n",
       "      <th>imdb_id</th>\n",
       "      <th>popularity</th>\n",
       "      <th>vote_average</th>\n",
       "      <th>vote_count</th>\n",
       "      <th>cast</th>\n",
       "      <th>director</th>\n",
       "      <th>join_director</th>\n",
       "      <th>join_cast</th>\n",
       "    </tr>\n",
       "  </thead>\n",
       "  <tbody>\n",
       "    <tr>\n",
       "      <th>0</th>\n",
       "      <td>The Shawshank Redemption</td>\n",
       "      <td>Framed in the 1940s for the double murder of h...</td>\n",
       "      <td>[{'id': 18, 'name': 'Drama'}, {'id': 80, 'name...</td>\n",
       "      <td>tt0111161</td>\n",
       "      <td>111.250</td>\n",
       "      <td>8.7</td>\n",
       "      <td>18845</td>\n",
       "      <td>['Tim Robbins', 'Morgan Freeman', 'Bob Gunton']</td>\n",
       "      <td>['Frank Darabont']</td>\n",
       "      <td>FrankDarabont</td>\n",
       "      <td>TimRobbins MorganFreeman BobGunton</td>\n",
       "    </tr>\n",
       "    <tr>\n",
       "      <th>1</th>\n",
       "      <td>The Godfather</td>\n",
       "      <td>Spanning the years 1945 to 1955, a chronicle o...</td>\n",
       "      <td>[{'id': 18, 'name': 'Drama'}, {'id': 80, 'name...</td>\n",
       "      <td>tt0068646</td>\n",
       "      <td>45.416</td>\n",
       "      <td>8.7</td>\n",
       "      <td>14225</td>\n",
       "      <td>['Al Pacino', 'Marlon Brando', 'James Caan']</td>\n",
       "      <td>['Francis Ford Coppola']</td>\n",
       "      <td>FrancisFordCoppola</td>\n",
       "      <td>AlPacino MarlonBrando JamesCaan</td>\n",
       "    </tr>\n",
       "  </tbody>\n",
       "</table>\n",
       "</div>"
      ],
      "text/plain": [
       "                      title  \\\n",
       "0  The Shawshank Redemption   \n",
       "1             The Godfather   \n",
       "\n",
       "                                           overviews  \\\n",
       "0  Framed in the 1940s for the double murder of h...   \n",
       "1  Spanning the years 1945 to 1955, a chronicle o...   \n",
       "\n",
       "                                              genres    imdb_id  popularity  \\\n",
       "0  [{'id': 18, 'name': 'Drama'}, {'id': 80, 'name...  tt0111161     111.250   \n",
       "1  [{'id': 18, 'name': 'Drama'}, {'id': 80, 'name...  tt0068646      45.416   \n",
       "\n",
       "   vote_average  vote_count                                             cast  \\\n",
       "0           8.7       18845  ['Tim Robbins', 'Morgan Freeman', 'Bob Gunton']   \n",
       "1           8.7       14225     ['Al Pacino', 'Marlon Brando', 'James Caan']   \n",
       "\n",
       "                   director        join_director  \\\n",
       "0        ['Frank Darabont']       FrankDarabont    \n",
       "1  ['Francis Ford Coppola']  FrancisFordCoppola    \n",
       "\n",
       "                             join_cast  \n",
       "0  TimRobbins MorganFreeman BobGunton   \n",
       "1     AlPacino MarlonBrando JamesCaan   "
      ]
     },
     "execution_count": 6,
     "metadata": {},
     "output_type": "execute_result"
    }
   ],
   "source": [
    "api.head(2)"
   ]
  },
  {
   "cell_type": "code",
   "execution_count": 18,
   "metadata": {},
   "outputs": [
    {
     "data": {
      "text/plain": [
       "\"A sweet-natured Italian waiter named Pistachio Disguisey at his father Fabbrizio's restaurant, who happens to be a member of a family with supernatural skills of disguise. But moments later the patriarch of the Disguisey family is kidnapped Fabbrizio's former arch-enemy, Devlin Bowman, a criminal mastermind in an attempt to steal the world's most precious treasures from around the world. And it's up to Pistachio to track down Bowman and save his family before Bowman kills them!\""
      ]
     },
     "execution_count": 18,
     "metadata": {},
     "output_type": "execute_result"
    }
   ],
   "source": [
    "x = api.loc[api['title']  == 'The Master of Disguise'][['overviews']]\n",
    "x['overviews'][6604]"
   ]
  },
  {
   "cell_type": "markdown",
   "metadata": {},
   "source": [
    "## Creating Master DF "
   ]
  },
  {
   "cell_type": "code",
   "execution_count": 101,
   "metadata": {
    "collapsed": true,
    "jupyter": {
     "outputs_hidden": true
    }
   },
   "outputs": [
    {
     "name": "stderr",
     "output_type": "stream",
     "text": [
      "<ipython-input-101-6e11c0ad983f>:2: SettingWithCopyWarning: \n",
      "A value is trying to be set on a copy of a slice from a DataFrame.\n",
      "Try using .loc[row_indexer,col_indexer] = value instead\n",
      "\n",
      "See the caveats in the documentation: https://pandas.pydata.org/pandas-docs/stable/user_guide/indexing.html#returning-a-view-versus-a-copy\n",
      "  df['genre'] = imdb['genre']\n",
      "<ipython-input-101-6e11c0ad983f>:3: SettingWithCopyWarning: \n",
      "A value is trying to be set on a copy of a slice from a DataFrame.\n",
      "Try using .loc[row_indexer,col_indexer] = value instead\n",
      "\n",
      "See the caveats in the documentation: https://pandas.pydata.org/pandas-docs/stable/user_guide/indexing.html#returning-a-view-versus-a-copy\n",
      "  df['user_plots'] = imdb['user_plots']\n",
      "<ipython-input-101-6e11c0ad983f>:4: SettingWithCopyWarning: \n",
      "A value is trying to be set on a copy of a slice from a DataFrame.\n",
      "Try using .loc[row_indexer,col_indexer] = value instead\n",
      "\n",
      "See the caveats in the documentation: https://pandas.pydata.org/pandas-docs/stable/user_guide/indexing.html#returning-a-view-versus-a-copy\n",
      "  df['synopsis'] = imdb['synopsis']\n"
     ]
    }
   ],
   "source": [
    "df = api[['imdb_id','title', 'overviews', 'join_director', 'join_cast','vote_average', 'vote_count']]\n",
    "df['genre'] = imdb['genre']\n",
    "df['user_plots'] = imdb['user_plots']\n",
    "df['synopsis'] = imdb['synopsis']"
   ]
  },
  {
   "cell_type": "code",
   "execution_count": 106,
   "metadata": {},
   "outputs": [
    {
     "data": {
      "text/html": [
       "<div>\n",
       "<style scoped>\n",
       "    .dataframe tbody tr th:only-of-type {\n",
       "        vertical-align: middle;\n",
       "    }\n",
       "\n",
       "    .dataframe tbody tr th {\n",
       "        vertical-align: top;\n",
       "    }\n",
       "\n",
       "    .dataframe thead th {\n",
       "        text-align: right;\n",
       "    }\n",
       "</style>\n",
       "<table border=\"1\" class=\"dataframe\">\n",
       "  <thead>\n",
       "    <tr style=\"text-align: right;\">\n",
       "      <th></th>\n",
       "      <th>imdb_id</th>\n",
       "      <th>title</th>\n",
       "      <th>overviews</th>\n",
       "      <th>join_director</th>\n",
       "      <th>join_cast</th>\n",
       "      <th>vote_average</th>\n",
       "      <th>vote_count</th>\n",
       "      <th>genre</th>\n",
       "      <th>user_plots</th>\n",
       "      <th>synopsis</th>\n",
       "    </tr>\n",
       "  </thead>\n",
       "  <tbody>\n",
       "    <tr>\n",
       "      <th>0</th>\n",
       "      <td>tt0111161</td>\n",
       "      <td>The Shawshank Redemption</td>\n",
       "      <td>Framed in the 1940s for the double murder of h...</td>\n",
       "      <td>FrankDarabont</td>\n",
       "      <td>TimRobbins MorganFreeman BobGunton</td>\n",
       "      <td>8.7</td>\n",
       "      <td>18845</td>\n",
       "      <td>Drama</td>\n",
       "      <td>['Two imprisoned men bond over a number of yea...</td>\n",
       "      <td>In 1947, Andy Dufresne (Tim Robbins), a banker...</td>\n",
       "    </tr>\n",
       "    <tr>\n",
       "      <th>1</th>\n",
       "      <td>tt0068646</td>\n",
       "      <td>The Godfather</td>\n",
       "      <td>Spanning the years 1945 to 1955, a chronicle o...</td>\n",
       "      <td>FrancisFordCoppola</td>\n",
       "      <td>AlPacino MarlonBrando JamesCaan</td>\n",
       "      <td>8.7</td>\n",
       "      <td>14225</td>\n",
       "      <td>Crime Drama</td>\n",
       "      <td>[\"An organized crime dynasty's aging patriarch...</td>\n",
       "      <td>In late summer 1945, guests are gathered for t...</td>\n",
       "    </tr>\n",
       "  </tbody>\n",
       "</table>\n",
       "</div>"
      ],
      "text/plain": [
       "     imdb_id                     title  \\\n",
       "0  tt0111161  The Shawshank Redemption   \n",
       "1  tt0068646             The Godfather   \n",
       "\n",
       "                                           overviews        join_director  \\\n",
       "0  Framed in the 1940s for the double murder of h...       FrankDarabont    \n",
       "1  Spanning the years 1945 to 1955, a chronicle o...  FrancisFordCoppola    \n",
       "\n",
       "                             join_cast  vote_average  vote_count        genre  \\\n",
       "0  TimRobbins MorganFreeman BobGunton            8.7       18845        Drama   \n",
       "1     AlPacino MarlonBrando JamesCaan            8.7       14225  Crime Drama   \n",
       "\n",
       "                                          user_plots  \\\n",
       "0  ['Two imprisoned men bond over a number of yea...   \n",
       "1  [\"An organized crime dynasty's aging patriarch...   \n",
       "\n",
       "                                            synopsis  \n",
       "0  In 1947, Andy Dufresne (Tim Robbins), a banker...  \n",
       "1  In late summer 1945, guests are gathered for t...  "
      ]
     },
     "execution_count": 106,
     "metadata": {},
     "output_type": "execute_result"
    }
   ],
   "source": [
    "df.head(2)"
   ]
  },
  {
   "cell_type": "code",
   "execution_count": 107,
   "metadata": {},
   "outputs": [],
   "source": [
    "df.to_csv('../data/master_df_1.csv', index=False)"
   ]
  },
  {
   "cell_type": "markdown",
   "metadata": {},
   "source": [
    "## Overview Content Model "
   ]
  },
  {
   "cell_type": "code",
   "execution_count": 109,
   "metadata": {},
   "outputs": [],
   "source": [
    "overview = df['overviews']"
   ]
  },
  {
   "cell_type": "code",
   "execution_count": 110,
   "metadata": {},
   "outputs": [],
   "source": [
    "tf = TfidfVectorizer(ngram_range=(1,2),\n",
    "                     min_df=0, stop_words='english')\n",
    "overview_matrix = tf.fit_transform(overview)"
   ]
  },
  {
   "cell_type": "code",
   "execution_count": 111,
   "metadata": {},
   "outputs": [
    {
     "data": {
      "text/plain": [
       "(6652, 163739)"
      ]
     },
     "execution_count": 111,
     "metadata": {},
     "output_type": "execute_result"
    }
   ],
   "source": [
    "overview_matrix.shape"
   ]
  },
  {
   "cell_type": "code",
   "execution_count": 114,
   "metadata": {},
   "outputs": [],
   "source": [
    "cos = sklearn.metrics.pairwise.linear_kernel(overview_matrix, overview_matrix)\n",
    "cos = [row for row in cos]\n",
    "\n",
    "cos_df = pd.DataFrame(cos)\n",
    "cos_df['title'] = df['title']\n",
    "\n",
    "cos_df.set_index('title', inplace=True)\n",
    "cos_df.columns = [x for x in cos_df.index]"
   ]
  },
  {
   "cell_type": "code",
   "execution_count": 115,
   "metadata": {},
   "outputs": [
    {
     "data": {
      "text/html": [
       "<div>\n",
       "<style scoped>\n",
       "    .dataframe tbody tr th:only-of-type {\n",
       "        vertical-align: middle;\n",
       "    }\n",
       "\n",
       "    .dataframe tbody tr th {\n",
       "        vertical-align: top;\n",
       "    }\n",
       "\n",
       "    .dataframe thead th {\n",
       "        text-align: right;\n",
       "    }\n",
       "</style>\n",
       "<table border=\"1\" class=\"dataframe\">\n",
       "  <thead>\n",
       "    <tr style=\"text-align: right;\">\n",
       "      <th></th>\n",
       "      <th>The Shawshank Redemption</th>\n",
       "      <th>The Godfather</th>\n",
       "      <th>The Dark Knight</th>\n",
       "      <th>The Godfather: Part II</th>\n",
       "      <th>12 Angry Men</th>\n",
       "      <th>The Lord of the Rings: The Return of the King</th>\n",
       "      <th>Pulp Fiction</th>\n",
       "      <th>Schindler's List</th>\n",
       "      <th>Inception</th>\n",
       "      <th>Fight Club</th>\n",
       "      <th>...</th>\n",
       "      <th>From Justin to Kelly</th>\n",
       "      <th>House of the Dead</th>\n",
       "      <th>Disaster Movie</th>\n",
       "      <th>The Hottie &amp; The Nottie</th>\n",
       "      <th>Superbabies: Baby Geniuses 2</th>\n",
       "      <th>Manos: The Hands of Fate</th>\n",
       "      <th>Birdemic: Shock and Terror</th>\n",
       "      <th>Pledge This!</th>\n",
       "      <th>Going Overboard</th>\n",
       "      <th>Saving Christmas</th>\n",
       "    </tr>\n",
       "    <tr>\n",
       "      <th>title</th>\n",
       "      <th></th>\n",
       "      <th></th>\n",
       "      <th></th>\n",
       "      <th></th>\n",
       "      <th></th>\n",
       "      <th></th>\n",
       "      <th></th>\n",
       "      <th></th>\n",
       "      <th></th>\n",
       "      <th></th>\n",
       "      <th></th>\n",
       "      <th></th>\n",
       "      <th></th>\n",
       "      <th></th>\n",
       "      <th></th>\n",
       "      <th></th>\n",
       "      <th></th>\n",
       "      <th></th>\n",
       "      <th></th>\n",
       "      <th></th>\n",
       "      <th></th>\n",
       "    </tr>\n",
       "  </thead>\n",
       "  <tbody>\n",
       "    <tr>\n",
       "      <th>The Shawshank Redemption</th>\n",
       "      <td>1.000000</td>\n",
       "      <td>0.001995</td>\n",
       "      <td>0.000000</td>\n",
       "      <td>0.002332</td>\n",
       "      <td>0.004448</td>\n",
       "      <td>0.0</td>\n",
       "      <td>0.000000</td>\n",
       "      <td>0.000000</td>\n",
       "      <td>0.002208</td>\n",
       "      <td>0.002183</td>\n",
       "      <td>...</td>\n",
       "      <td>0.0</td>\n",
       "      <td>0.000000</td>\n",
       "      <td>0.008235</td>\n",
       "      <td>0.0</td>\n",
       "      <td>0.003710</td>\n",
       "      <td>0.000000</td>\n",
       "      <td>0.000000</td>\n",
       "      <td>0.004839</td>\n",
       "      <td>0.000000</td>\n",
       "      <td>0.000000</td>\n",
       "    </tr>\n",
       "    <tr>\n",
       "      <th>The Godfather</th>\n",
       "      <td>0.001995</td>\n",
       "      <td>1.000000</td>\n",
       "      <td>0.010253</td>\n",
       "      <td>0.252749</td>\n",
       "      <td>0.004582</td>\n",
       "      <td>0.0</td>\n",
       "      <td>0.012832</td>\n",
       "      <td>0.000000</td>\n",
       "      <td>0.002410</td>\n",
       "      <td>0.000000</td>\n",
       "      <td>...</td>\n",
       "      <td>0.0</td>\n",
       "      <td>0.000000</td>\n",
       "      <td>0.000000</td>\n",
       "      <td>0.0</td>\n",
       "      <td>0.005518</td>\n",
       "      <td>0.008743</td>\n",
       "      <td>0.000000</td>\n",
       "      <td>0.000000</td>\n",
       "      <td>0.000000</td>\n",
       "      <td>0.000000</td>\n",
       "    </tr>\n",
       "    <tr>\n",
       "      <th>The Dark Knight</th>\n",
       "      <td>0.000000</td>\n",
       "      <td>0.010253</td>\n",
       "      <td>1.000000</td>\n",
       "      <td>0.005679</td>\n",
       "      <td>0.003945</td>\n",
       "      <td>0.0</td>\n",
       "      <td>0.005896</td>\n",
       "      <td>0.005626</td>\n",
       "      <td>0.000000</td>\n",
       "      <td>0.000000</td>\n",
       "      <td>...</td>\n",
       "      <td>0.0</td>\n",
       "      <td>0.003495</td>\n",
       "      <td>0.000000</td>\n",
       "      <td>0.0</td>\n",
       "      <td>0.000000</td>\n",
       "      <td>0.000000</td>\n",
       "      <td>0.007938</td>\n",
       "      <td>0.000000</td>\n",
       "      <td>0.000000</td>\n",
       "      <td>0.004636</td>\n",
       "    </tr>\n",
       "    <tr>\n",
       "      <th>The Godfather: Part II</th>\n",
       "      <td>0.002332</td>\n",
       "      <td>0.252749</td>\n",
       "      <td>0.005679</td>\n",
       "      <td>1.000000</td>\n",
       "      <td>0.002939</td>\n",
       "      <td>0.0</td>\n",
       "      <td>0.007108</td>\n",
       "      <td>0.000000</td>\n",
       "      <td>0.000000</td>\n",
       "      <td>0.002639</td>\n",
       "      <td>...</td>\n",
       "      <td>0.0</td>\n",
       "      <td>0.000000</td>\n",
       "      <td>0.000000</td>\n",
       "      <td>0.0</td>\n",
       "      <td>0.000000</td>\n",
       "      <td>0.009686</td>\n",
       "      <td>0.000000</td>\n",
       "      <td>0.000000</td>\n",
       "      <td>0.003916</td>\n",
       "      <td>0.000000</td>\n",
       "    </tr>\n",
       "    <tr>\n",
       "      <th>12 Angry Men</th>\n",
       "      <td>0.004448</td>\n",
       "      <td>0.004582</td>\n",
       "      <td>0.003945</td>\n",
       "      <td>0.002939</td>\n",
       "      <td>1.000000</td>\n",
       "      <td>0.0</td>\n",
       "      <td>0.000000</td>\n",
       "      <td>0.000000</td>\n",
       "      <td>0.000000</td>\n",
       "      <td>0.000000</td>\n",
       "      <td>...</td>\n",
       "      <td>0.0</td>\n",
       "      <td>0.004039</td>\n",
       "      <td>0.000000</td>\n",
       "      <td>0.0</td>\n",
       "      <td>0.000000</td>\n",
       "      <td>0.000000</td>\n",
       "      <td>0.000000</td>\n",
       "      <td>0.000000</td>\n",
       "      <td>0.003753</td>\n",
       "      <td>0.009288</td>\n",
       "    </tr>\n",
       "  </tbody>\n",
       "</table>\n",
       "<p>5 rows × 6652 columns</p>\n",
       "</div>"
      ],
      "text/plain": [
       "                          The Shawshank Redemption  The Godfather  \\\n",
       "title                                                               \n",
       "The Shawshank Redemption                  1.000000       0.001995   \n",
       "The Godfather                             0.001995       1.000000   \n",
       "The Dark Knight                           0.000000       0.010253   \n",
       "The Godfather: Part II                    0.002332       0.252749   \n",
       "12 Angry Men                              0.004448       0.004582   \n",
       "\n",
       "                          The Dark Knight  The Godfather: Part II  \\\n",
       "title                                                               \n",
       "The Shawshank Redemption         0.000000                0.002332   \n",
       "The Godfather                    0.010253                0.252749   \n",
       "The Dark Knight                  1.000000                0.005679   \n",
       "The Godfather: Part II           0.005679                1.000000   \n",
       "12 Angry Men                     0.003945                0.002939   \n",
       "\n",
       "                          12 Angry Men  \\\n",
       "title                                    \n",
       "The Shawshank Redemption      0.004448   \n",
       "The Godfather                 0.004582   \n",
       "The Dark Knight               0.003945   \n",
       "The Godfather: Part II        0.002939   \n",
       "12 Angry Men                  1.000000   \n",
       "\n",
       "                          The Lord of the Rings: The Return of the King  \\\n",
       "title                                                                     \n",
       "The Shawshank Redemption                                            0.0   \n",
       "The Godfather                                                       0.0   \n",
       "The Dark Knight                                                     0.0   \n",
       "The Godfather: Part II                                              0.0   \n",
       "12 Angry Men                                                        0.0   \n",
       "\n",
       "                          Pulp Fiction  Schindler's List  Inception  \\\n",
       "title                                                                 \n",
       "The Shawshank Redemption      0.000000          0.000000   0.002208   \n",
       "The Godfather                 0.012832          0.000000   0.002410   \n",
       "The Dark Knight               0.005896          0.005626   0.000000   \n",
       "The Godfather: Part II        0.007108          0.000000   0.000000   \n",
       "12 Angry Men                  0.000000          0.000000   0.000000   \n",
       "\n",
       "                          Fight Club  ...  From Justin to Kelly  \\\n",
       "title                                 ...                         \n",
       "The Shawshank Redemption    0.002183  ...                   0.0   \n",
       "The Godfather               0.000000  ...                   0.0   \n",
       "The Dark Knight             0.000000  ...                   0.0   \n",
       "The Godfather: Part II      0.002639  ...                   0.0   \n",
       "12 Angry Men                0.000000  ...                   0.0   \n",
       "\n",
       "                          House of the Dead  Disaster Movie  \\\n",
       "title                                                         \n",
       "The Shawshank Redemption           0.000000        0.008235   \n",
       "The Godfather                      0.000000        0.000000   \n",
       "The Dark Knight                    0.003495        0.000000   \n",
       "The Godfather: Part II             0.000000        0.000000   \n",
       "12 Angry Men                       0.004039        0.000000   \n",
       "\n",
       "                          The Hottie & The Nottie  \\\n",
       "title                                               \n",
       "The Shawshank Redemption                      0.0   \n",
       "The Godfather                                 0.0   \n",
       "The Dark Knight                               0.0   \n",
       "The Godfather: Part II                        0.0   \n",
       "12 Angry Men                                  0.0   \n",
       "\n",
       "                          Superbabies: Baby Geniuses 2  \\\n",
       "title                                                    \n",
       "The Shawshank Redemption                      0.003710   \n",
       "The Godfather                                 0.005518   \n",
       "The Dark Knight                               0.000000   \n",
       "The Godfather: Part II                        0.000000   \n",
       "12 Angry Men                                  0.000000   \n",
       "\n",
       "                          Manos: The Hands of Fate  \\\n",
       "title                                                \n",
       "The Shawshank Redemption                  0.000000   \n",
       "The Godfather                             0.008743   \n",
       "The Dark Knight                           0.000000   \n",
       "The Godfather: Part II                    0.009686   \n",
       "12 Angry Men                              0.000000   \n",
       "\n",
       "                          Birdemic: Shock and Terror  Pledge This!  \\\n",
       "title                                                                \n",
       "The Shawshank Redemption                    0.000000      0.004839   \n",
       "The Godfather                               0.000000      0.000000   \n",
       "The Dark Knight                             0.007938      0.000000   \n",
       "The Godfather: Part II                      0.000000      0.000000   \n",
       "12 Angry Men                                0.000000      0.000000   \n",
       "\n",
       "                          Going Overboard  Saving Christmas  \n",
       "title                                                        \n",
       "The Shawshank Redemption         0.000000          0.000000  \n",
       "The Godfather                    0.000000          0.000000  \n",
       "The Dark Knight                  0.000000          0.004636  \n",
       "The Godfather: Part II           0.003916          0.000000  \n",
       "12 Angry Men                     0.003753          0.009288  \n",
       "\n",
       "[5 rows x 6652 columns]"
      ]
     },
     "execution_count": 115,
     "metadata": {},
     "output_type": "execute_result"
    }
   ],
   "source": [
    "cos_df.head()"
   ]
  },
  {
   "cell_type": "code",
   "execution_count": 147,
   "metadata": {},
   "outputs": [],
   "source": [
    "#return sorted df with the most similar movies by cos-sine sim \n",
    "def recommend_me(title):\n",
    "    recs = cos_df[title]\n",
    "    return recs.sort_values(ascending=False)[1:11]"
   ]
  },
  {
   "cell_type": "code",
   "execution_count": 148,
   "metadata": {},
   "outputs": [],
   "source": [
    "#return index of movie in the df\n",
    "def find_index(movie):    \n",
    "    index = df.index\n",
    "    condition = df['title'] == movie\n",
    "    dex = index[condition]\n",
    "    dex.tolist()\n",
    "    return dex[0]"
   ]
  },
  {
   "cell_type": "code",
   "execution_count": 149,
   "metadata": {},
   "outputs": [
    {
     "data": {
      "text/plain": [
       "title\n",
       "The Godfather: Part II     0.252749\n",
       "Blood Ties                 0.090632\n",
       "Gotti                      0.072076\n",
       "Live by Night              0.070823\n",
       "Made                       0.064192\n",
       "The Godfather: Part III    0.055534\n",
       "The Color Purple           0.051678\n",
       "Playing for Keeps          0.050906\n",
       "Summer of Sam              0.050406\n",
       "Warrior                    0.048586\n",
       "Name: The Godfather, dtype: float64"
      ]
     },
     "execution_count": 149,
     "metadata": {},
     "output_type": "execute_result"
    }
   ],
   "source": [
    "recommend_me('The Godfather')"
   ]
  },
  {
   "cell_type": "code",
   "execution_count": 153,
   "metadata": {},
   "outputs": [
    {
     "data": {
      "text/plain": [
       "'Spanning the years 1945 to 1955, a chronicle of the fictional Italian-American Corleone crime family. When organized crime family patriarch, Vito Corleone barely survives an attempt on his life, his youngest son, Michael steps in to take care of the would-be killers, launching a campaign of bloody revenge.'"
      ]
     },
     "execution_count": 153,
     "metadata": {},
     "output_type": "execute_result"
    }
   ],
   "source": [
    "df['overviews'][find_index('The Godfather')]"
   ]
  },
  {
   "cell_type": "markdown",
   "metadata": {},
   "source": [
    "These predictions are pretty solid, however this is an easy one for the model to pick up as the overview has lots of strong words like crime, family, and specific character names"
   ]
  },
  {
   "cell_type": "code",
   "execution_count": 136,
   "metadata": {},
   "outputs": [
    {
     "data": {
      "text/plain": [
       "title\n",
       "My Little Eye            0.079426\n",
       "Last Action Hero         0.066326\n",
       "Hotel Rwanda             0.063955\n",
       "Assassination Nation     0.062834\n",
       "Return to Never Land     0.062172\n",
       "Blind Dating             0.049997\n",
       "Adventureland            0.048518\n",
       "Mr. Popper's Penguins    0.048023\n",
       "Ocean's Eleven           0.045593\n",
       "Name: The Shining, dtype: float64"
      ]
     },
     "execution_count": 136,
     "metadata": {},
     "output_type": "execute_result"
    }
   ],
   "source": [
    "recommend_me('The Shining')"
   ]
  },
  {
   "cell_type": "code",
   "execution_count": 154,
   "metadata": {},
   "outputs": [
    {
     "data": {
      "text/plain": [
       "\"Jack Torrance accepts a caretaker job at the Overlook Hotel, where he, along with his wife Wendy and their son Danny, must live isolated from the rest of the world for the winter. But they aren't prepared for the madness that lurks within.\""
      ]
     },
     "execution_count": 154,
     "metadata": {},
     "output_type": "execute_result"
    }
   ],
   "source": [
    "df['overviews'][find_index('The Shining')]"
   ]
  },
  {
   "cell_type": "code",
   "execution_count": 156,
   "metadata": {},
   "outputs": [
    {
     "data": {
      "text/plain": [
       "'Jim Carrey stars as Tom Popper, a successful businessman who’s clueless when it comes to the really important things in life...until he inherits six “adorable” penguins, each with its own unique personality. Soon Tom’s rambunctious roommates turn his swank New York apartment into a snowy winter wonderland — and the rest of his world upside-down.'"
      ]
     },
     "execution_count": 156,
     "metadata": {},
     "output_type": "execute_result"
    }
   ],
   "source": [
    "df['overviews'][find_index(\"Mr. Popper's Penguins\")]"
   ]
  },
  {
   "cell_type": "code",
   "execution_count": 157,
   "metadata": {},
   "outputs": [
    {
     "data": {
      "text/plain": [
       "'Inspired by true events, this film takes place in Rwanda in the 1990s when more than a million Tutsis were killed in a genocide that went mostly unnoticed by the rest of the world. Hotel owner Paul Rusesabagina houses over a thousand refuges in his hotel in attempt to save their lives.'"
      ]
     },
     "execution_count": 157,
     "metadata": {},
     "output_type": "execute_result"
    }
   ],
   "source": [
    "df['overviews'][find_index('Hotel Rwanda')]"
   ]
  },
  {
   "cell_type": "markdown",
   "metadata": {},
   "source": [
    "The models weakness can be seen here. Mr. Poopper's Penguins isnt similar to The Shining in the slightest, but that one word \"winter\" is whats matching them. This is an issue that needs to be fixed. The same can be seen for Hotel Rwanda, where its finding similarity in the word 'hotel'"
   ]
  },
  {
   "cell_type": "markdown",
   "metadata": {},
   "source": [
    "## Genre + Cast + Director Model "
   ]
  },
  {
   "cell_type": "code",
   "execution_count": 168,
   "metadata": {},
   "outputs": [
    {
     "data": {
      "text/html": [
       "<div>\n",
       "<style scoped>\n",
       "    .dataframe tbody tr th:only-of-type {\n",
       "        vertical-align: middle;\n",
       "    }\n",
       "\n",
       "    .dataframe tbody tr th {\n",
       "        vertical-align: top;\n",
       "    }\n",
       "\n",
       "    .dataframe thead th {\n",
       "        text-align: right;\n",
       "    }\n",
       "</style>\n",
       "<table border=\"1\" class=\"dataframe\">\n",
       "  <thead>\n",
       "    <tr style=\"text-align: right;\">\n",
       "      <th></th>\n",
       "      <th>title</th>\n",
       "      <th>join_director</th>\n",
       "      <th>join_cast</th>\n",
       "      <th>genre</th>\n",
       "    </tr>\n",
       "  </thead>\n",
       "  <tbody>\n",
       "    <tr>\n",
       "      <th>0</th>\n",
       "      <td>The Shawshank Redemption</td>\n",
       "      <td>FrankDarabont</td>\n",
       "      <td>TimRobbins MorganFreeman BobGunton</td>\n",
       "      <td>Drama</td>\n",
       "    </tr>\n",
       "    <tr>\n",
       "      <th>1</th>\n",
       "      <td>The Godfather</td>\n",
       "      <td>FrancisFordCoppola</td>\n",
       "      <td>AlPacino MarlonBrando JamesCaan</td>\n",
       "      <td>Crime Drama</td>\n",
       "    </tr>\n",
       "  </tbody>\n",
       "</table>\n",
       "</div>"
      ],
      "text/plain": [
       "                      title        join_director  \\\n",
       "0  The Shawshank Redemption       FrankDarabont    \n",
       "1             The Godfather  FrancisFordCoppola    \n",
       "\n",
       "                             join_cast        genre  \n",
       "0  TimRobbins MorganFreeman BobGunton         Drama  \n",
       "1     AlPacino MarlonBrando JamesCaan   Crime Drama  "
      ]
     },
     "execution_count": 168,
     "metadata": {},
     "output_type": "execute_result"
    }
   ],
   "source": [
    "peeps = df[['title', 'join_director', 'join_cast', 'genre']]\n",
    "peeps.head(2)"
   ]
  },
  {
   "cell_type": "code",
   "execution_count": 218,
   "metadata": {},
   "outputs": [],
   "source": [
    "combo = []\n",
    "for dex in range(6652):\n",
    "        combined = ''\n",
    "        for col in ['join_director', 'join_cast', 'genre']:\n",
    "            combined += str(peeps[col][dex])\n",
    "        combo.append(combined)"
   ]
  },
  {
   "cell_type": "code",
   "execution_count": 220,
   "metadata": {},
   "outputs": [
    {
     "data": {
      "text/plain": [
       "6652"
      ]
     },
     "execution_count": 220,
     "metadata": {},
     "output_type": "execute_result"
    }
   ],
   "source": [
    "len(combo)"
   ]
  },
  {
   "cell_type": "code",
   "execution_count": 222,
   "metadata": {},
   "outputs": [],
   "source": [
    "combo = pd.DataFrame(combo, columns=['all'])"
   ]
  },
  {
   "cell_type": "code",
   "execution_count": 224,
   "metadata": {},
   "outputs": [],
   "source": [
    "combo = combo['all']"
   ]
  },
  {
   "cell_type": "code",
   "execution_count": 226,
   "metadata": {},
   "outputs": [],
   "source": [
    "tf = TfidfVectorizer(stop_words='english')\n",
    "combo_matrix = tf.fit_transform(combo)"
   ]
  },
  {
   "cell_type": "code",
   "execution_count": 228,
   "metadata": {},
   "outputs": [
    {
     "data": {
      "text/plain": [
       "(6652, 9005)"
      ]
     },
     "execution_count": 228,
     "metadata": {},
     "output_type": "execute_result"
    }
   ],
   "source": [
    "combo_matrix.shape"
   ]
  },
  {
   "cell_type": "code",
   "execution_count": 232,
   "metadata": {},
   "outputs": [],
   "source": [
    "c_cos = sklearn.metrics.pairwise.linear_kernel(combo_matrix, combo_matrix)\n",
    "c_cos = [row for row in c_cos]\n",
    "\n",
    "c_cos_df = pd.DataFrame(c_cos)\n",
    "c_cos_df['title'] = df['title']\n",
    "\n",
    "c_cos_df.set_index('title', inplace=True)\n",
    "c_cos_df.columns = [x for x in c_cos_df.index]"
   ]
  },
  {
   "cell_type": "code",
   "execution_count": 233,
   "metadata": {},
   "outputs": [],
   "source": [
    "def recommend_me(title):\n",
    "    recs = c_cos_df[title]\n",
    "    return recs.sort_values(ascending=False)[1:11]"
   ]
  },
  {
   "cell_type": "code",
   "execution_count": 234,
   "metadata": {},
   "outputs": [
    {
     "data": {
      "text/plain": [
       "title\n",
       "The Two Jakes               0.318773\n",
       "3 Women                     0.279991\n",
       "Popeye                      0.278713\n",
       "The Aristocats              0.261647\n",
       "Twilight Zone: The Movie    0.253450\n",
       "Wolf                        0.248512\n",
       "Eyes Wide Shut              0.242638\n",
       "The Witches of Eastwick     0.219971\n",
       "Spartacus                   0.216418\n",
       "The Departed                0.215267\n",
       "Name: The Shining, dtype: float64"
      ]
     },
     "execution_count": 234,
     "metadata": {},
     "output_type": "execute_result"
    }
   ],
   "source": [
    "recommend_me('The Shining')"
   ]
  },
  {
   "cell_type": "code",
   "execution_count": 235,
   "metadata": {},
   "outputs": [
    {
     "data": {
      "text/plain": [
       "6055"
      ]
     },
     "execution_count": 235,
     "metadata": {},
     "output_type": "execute_result"
    }
   ],
   "source": [
    "find_index('Popeye')"
   ]
  },
  {
   "cell_type": "code",
   "execution_count": null,
   "metadata": {},
   "outputs": [],
   "source": []
  }
 ],
 "metadata": {
  "kernelspec": {
   "display_name": "Python 3",
   "language": "python",
   "name": "python3"
  },
  "language_info": {
   "codemirror_mode": {
    "name": "ipython",
    "version": 3
   },
   "file_extension": ".py",
   "mimetype": "text/x-python",
   "name": "python",
   "nbconvert_exporter": "python",
   "pygments_lexer": "ipython3",
   "version": "3.8.5"
  }
 },
 "nbformat": 4,
 "nbformat_minor": 4
}
