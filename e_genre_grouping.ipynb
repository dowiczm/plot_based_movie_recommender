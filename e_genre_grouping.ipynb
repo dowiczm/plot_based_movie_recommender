{
 "cells": [
  {
   "cell_type": "code",
   "execution_count": 2,
   "metadata": {},
   "outputs": [],
   "source": [
    "import pandas as pd\n",
    "import numpy as np\n",
    "\n",
    "from sklearn.feature_extraction.text import TfidfVectorizer\n",
    "from nltk import tokenize\n",
    "\n",
    "import sklearn"
   ]
  },
  {
   "cell_type": "code",
   "execution_count": 18,
   "metadata": {},
   "outputs": [],
   "source": [
    "import spacy\n",
    "\n",
    "from spacy.lang.en.stop_words import STOP_WORDS\n",
    "from string import punctuation\n",
    "from collections import Counter\n",
    "from heapq import nlargest\n",
    "\n",
    "from sklearn.feature_extraction.text import TfidfVectorizer"
   ]
  },
  {
   "cell_type": "code",
   "execution_count": 19,
   "metadata": {},
   "outputs": [],
   "source": [
    "df = pd.read_csv('../data/master_df_1.csv')\n",
    "api = pd.read_csv('../data/api_data.csv')"
   ]
  },
  {
   "cell_type": "code",
   "execution_count": 20,
   "metadata": {},
   "outputs": [
    {
     "data": {
      "text/html": [
       "<div>\n",
       "<style scoped>\n",
       "    .dataframe tbody tr th:only-of-type {\n",
       "        vertical-align: middle;\n",
       "    }\n",
       "\n",
       "    .dataframe tbody tr th {\n",
       "        vertical-align: top;\n",
       "    }\n",
       "\n",
       "    .dataframe thead th {\n",
       "        text-align: right;\n",
       "    }\n",
       "</style>\n",
       "<table border=\"1\" class=\"dataframe\">\n",
       "  <thead>\n",
       "    <tr style=\"text-align: right;\">\n",
       "      <th></th>\n",
       "      <th>imdb_id</th>\n",
       "      <th>title</th>\n",
       "      <th>overviews</th>\n",
       "      <th>join_director</th>\n",
       "      <th>join_cast</th>\n",
       "      <th>vote_average</th>\n",
       "      <th>vote_count</th>\n",
       "      <th>genre</th>\n",
       "      <th>user_plots</th>\n",
       "      <th>synopsis</th>\n",
       "    </tr>\n",
       "  </thead>\n",
       "  <tbody>\n",
       "    <tr>\n",
       "      <th>0</th>\n",
       "      <td>tt0111161</td>\n",
       "      <td>The Shawshank Redemption</td>\n",
       "      <td>Framed in the 1940s for the double murder of h...</td>\n",
       "      <td>FrankDarabont</td>\n",
       "      <td>TimRobbins MorganFreeman BobGunton</td>\n",
       "      <td>8.7</td>\n",
       "      <td>18845</td>\n",
       "      <td>Drama</td>\n",
       "      <td>['Two imprisoned men bond over a number of yea...</td>\n",
       "      <td>In 1947, Andy Dufresne (Tim Robbins), a banker...</td>\n",
       "    </tr>\n",
       "    <tr>\n",
       "      <th>1</th>\n",
       "      <td>tt0068646</td>\n",
       "      <td>The Godfather</td>\n",
       "      <td>Spanning the years 1945 to 1955, a chronicle o...</td>\n",
       "      <td>FrancisFordCoppola</td>\n",
       "      <td>AlPacino MarlonBrando JamesCaan</td>\n",
       "      <td>8.7</td>\n",
       "      <td>14225</td>\n",
       "      <td>Crime Drama</td>\n",
       "      <td>[\"An organized crime dynasty's aging patriarch...</td>\n",
       "      <td>In late summer 1945, guests are gathered for t...</td>\n",
       "    </tr>\n",
       "    <tr>\n",
       "      <th>2</th>\n",
       "      <td>tt0468569</td>\n",
       "      <td>The Dark Knight</td>\n",
       "      <td>Batman raises the stakes in his war on crime. ...</td>\n",
       "      <td>ChristopherNolan</td>\n",
       "      <td>ChristianBale HeathLedger MichaelCaine</td>\n",
       "      <td>8.5</td>\n",
       "      <td>24993</td>\n",
       "      <td>Action Crime Drama</td>\n",
       "      <td>['When the menace known as the Joker wreaks ha...</td>\n",
       "      <td>The movie begins with a gang of men with clown...</td>\n",
       "    </tr>\n",
       "    <tr>\n",
       "      <th>3</th>\n",
       "      <td>tt0071562</td>\n",
       "      <td>The Godfather: Part II</td>\n",
       "      <td>In the continuing saga of the Corleone crime f...</td>\n",
       "      <td>FrancisFordCoppola</td>\n",
       "      <td>AlPacino RobertDeNiro RobertDuvall</td>\n",
       "      <td>8.6</td>\n",
       "      <td>8488</td>\n",
       "      <td>Crime Drama</td>\n",
       "      <td>['The early life and career of Vito Corleone i...</td>\n",
       "      <td>The Godfather Part II presents two parallel st...</td>\n",
       "    </tr>\n",
       "    <tr>\n",
       "      <th>4</th>\n",
       "      <td>tt0050083</td>\n",
       "      <td>12 Angry Men</td>\n",
       "      <td>The defense and the prosecution have rested an...</td>\n",
       "      <td>SidneyLumet</td>\n",
       "      <td>MartinBalsam JohnFiedler LeeJ.Cobb</td>\n",
       "      <td>8.5</td>\n",
       "      <td>5539</td>\n",
       "      <td>Crime Drama</td>\n",
       "      <td>['A jury holdout attempts to prevent a miscarr...</td>\n",
       "      <td>In a New York City courthouse, an eighteen-yea...</td>\n",
       "    </tr>\n",
       "  </tbody>\n",
       "</table>\n",
       "</div>"
      ],
      "text/plain": [
       "     imdb_id                     title  \\\n",
       "0  tt0111161  The Shawshank Redemption   \n",
       "1  tt0068646             The Godfather   \n",
       "2  tt0468569           The Dark Knight   \n",
       "3  tt0071562    The Godfather: Part II   \n",
       "4  tt0050083              12 Angry Men   \n",
       "\n",
       "                                           overviews        join_director  \\\n",
       "0  Framed in the 1940s for the double murder of h...       FrankDarabont    \n",
       "1  Spanning the years 1945 to 1955, a chronicle o...  FrancisFordCoppola    \n",
       "2  Batman raises the stakes in his war on crime. ...    ChristopherNolan    \n",
       "3  In the continuing saga of the Corleone crime f...  FrancisFordCoppola    \n",
       "4  The defense and the prosecution have rested an...         SidneyLumet    \n",
       "\n",
       "                                 join_cast  vote_average  vote_count  \\\n",
       "0      TimRobbins MorganFreeman BobGunton            8.7       18845   \n",
       "1         AlPacino MarlonBrando JamesCaan            8.7       14225   \n",
       "2  ChristianBale HeathLedger MichaelCaine            8.5       24993   \n",
       "3      AlPacino RobertDeNiro RobertDuvall            8.6        8488   \n",
       "4      MartinBalsam JohnFiedler LeeJ.Cobb            8.5        5539   \n",
       "\n",
       "                genre                                         user_plots  \\\n",
       "0               Drama  ['Two imprisoned men bond over a number of yea...   \n",
       "1         Crime Drama  [\"An organized crime dynasty's aging patriarch...   \n",
       "2  Action Crime Drama  ['When the menace known as the Joker wreaks ha...   \n",
       "3         Crime Drama  ['The early life and career of Vito Corleone i...   \n",
       "4         Crime Drama  ['A jury holdout attempts to prevent a miscarr...   \n",
       "\n",
       "                                            synopsis  \n",
       "0  In 1947, Andy Dufresne (Tim Robbins), a banker...  \n",
       "1  In late summer 1945, guests are gathered for t...  \n",
       "2  The movie begins with a gang of men with clown...  \n",
       "3  The Godfather Part II presents two parallel st...  \n",
       "4  In a New York City courthouse, an eighteen-yea...  "
      ]
     },
     "execution_count": 20,
     "metadata": {},
     "output_type": "execute_result"
    }
   ],
   "source": [
    "df.head()"
   ]
  },
  {
   "cell_type": "markdown",
   "metadata": {},
   "source": [
    "## Creating Individual Genre Columns"
   ]
  },
  {
   "cell_type": "code",
   "execution_count": 21,
   "metadata": {},
   "outputs": [],
   "source": [
    "#creating column for first genere that appears in the existing genre column\n",
    "\n",
    "main_genre = [g.split(' ')[0] for g in df['genre']]\n",
    "df['main_genre'] = main_genre"
   ]
  },
  {
   "cell_type": "code",
   "execution_count": 22,
   "metadata": {},
   "outputs": [
    {
     "data": {
      "text/plain": [
       "Comedy       0.277210\n",
       "Action       0.240529\n",
       "Drama        0.168070\n",
       "Crime        0.071708\n",
       "Biography    0.059230\n",
       "Adventure    0.059080\n",
       "Animation    0.053518\n",
       "Horror       0.052315\n",
       "Fantasy      0.006314\n",
       "Mystery      0.004059\n",
       "Thriller     0.002556\n",
       "Western      0.001353\n",
       "Family       0.001052\n",
       "Sci-Fi       0.001052\n",
       "Romance      0.000902\n",
       "Film-Noir    0.000752\n",
       "Music        0.000150\n",
       "Musical      0.000150\n",
       "Name: main_genre, dtype: float64"
      ]
     },
     "execution_count": 22,
     "metadata": {},
     "output_type": "execute_result"
    }
   ],
   "source": [
    "df['main_genre'].value_counts(normalize=True)"
   ]
  },
  {
   "cell_type": "code",
   "execution_count": 23,
   "metadata": {},
   "outputs": [
    {
     "data": {
      "image/png": "[encoded data removed]",
      "text/plain": [
       "<Figure size 432x288 with 1 Axes>"
      ]
     },
     "metadata": {
      "needs_background": "light"
     },
     "output_type": "display_data"
    }
   ],
   "source": [
    "import matplotlib.pyplot as plt\n",
    "\n",
    "plt.hist(df['main_genre'])\n",
    "plt.xticks(rotation='vertical')\n",
    "plt.title('Main Genre Counts')\n",
    "plt.xlabel('Genres')\n",
    "plt.ylabel('Movie Count');"
   ]
  },
  {
   "cell_type": "markdown",
   "metadata": {},
   "source": [
    "Genre classes are severely unbalanced as only the first genre that appears in the 'genre' column is being considered.  "
   ]
  },
  {
   "cell_type": "markdown",
   "metadata": {},
   "source": [
    "'The Shining' is a 'Horror' but also a 'Drama', however it only appears in the 'Drama' column, as 'Drama' was the first genre that appeared in the original genre column. "
   ]
  },
  {
   "cell_type": "code",
   "execution_count": 24,
   "metadata": {},
   "outputs": [],
   "source": [
    "#creating function to make a new column for each genre\n",
    "#1 = if the genre appears anywhere in the original genre column\n",
    "#0 = if the genre does not appear anywhere in the original genre column\n",
    "\n",
    "def create_general_genre(specific_genre):\n",
    "    genre = []\n",
    "    for genres in df['genre']:\n",
    "        if specific_genre in genres:\n",
    "            genre.append(1)\n",
    "        else:\n",
    "            genre.append(0)\n",
    "    \n",
    "    df[specific_genre] = genre\n",
    "    \n",
    "    return df[specific_genre].value_counts(normalize=True).sort_index()[1]"
   ]
  },
  {
   "cell_type": "code",
   "execution_count": 25,
   "metadata": {},
   "outputs": [],
   "source": [
    "general_genres = ['Comedy', 'Action', 'Drama', 'Crime', 'Biography', 'Adventure', 'Animation', 'Horror',\n",
    "                 'Fantasy', 'Mystery', 'Thriller', 'Western', 'Family', 'Sci-Fi', 'Romance', 'Film-Noir',\n",
    "                 'Musical', 'Music']"
   ]
  },
  {
   "cell_type": "code",
   "execution_count": 26,
   "metadata": {},
   "outputs": [],
   "source": [
    "#apply the function to create general genre columns\n",
    "for genre in general_genres:\n",
    "    create_general_genre(genre)"
   ]
  },
  {
   "cell_type": "code",
   "execution_count": 27,
   "metadata": {},
   "outputs": [],
   "source": [
    "general_genres = ['Comedy', 'Action', 'Drama', 'Crime', 'Biography', 'Adventure', 'Animation', 'Horror',\n",
    "                 'Fantasy', 'Mystery', 'Thriller', 'Western', 'Family', 'Sci-Fi', 'Romance', 'Film-Noir',\n",
    "                 'Musical', 'Music']\n",
    "\n",
    "genre_dict = {}\n",
    "\n",
    "for genre in general_genres:\n",
    "    genre_dict[genre] = df[genre].value_counts().sort_index()[1]"
   ]
  },
  {
   "cell_type": "code",
   "execution_count": 28,
   "metadata": {},
   "outputs": [
    {
     "data": {
      "image/png": "[encoded data removed]",
      "text/plain": [
       "<Figure size 432x288 with 1 Axes>"
      ]
     },
     "metadata": {
      "needs_background": "light"
     },
     "output_type": "display_data"
    }
   ],
   "source": [
    "for genre in genre_dict:\n",
    "    plt.bar(genre, genre_dict[genre]);\n",
    "plt.xticks(rotation='vertical')\n",
    "plt.xlabel('Genres')\n",
    "plt.ylabel('Movie Count')\n",
    "plt.title('General Genre Counts');"
   ]
  },
  {
   "cell_type": "code",
   "execution_count": 29,
   "metadata": {},
   "outputs": [
    {
     "data": {
      "text/plain": [
       "16891"
      ]
     },
     "execution_count": 29,
     "metadata": {},
     "output_type": "execute_result"
    }
   ],
   "source": [
    "movie_count  = 0\n",
    "for genre in genre_dict:\n",
    "    movie_count += genre_dict[genre]\n",
    "movie_count"
   ]
  },
  {
   "cell_type": "markdown",
   "metadata": {},
   "source": [
    "The general genre columns displays all the movies with each specific genre appearing at least once in the 'genre' column. The total count for all the movies is now 16,891 meaning some movies appear in multiple genres. This will allow for cross-functional movie reccomendations. For example, 'The Shining' is a 'Horror' but also a 'Drama', so it appears in both columns. \n",
    "\n",
    "The original genre column was too specific, with over 383 unqiue genres like 'Comedy Drama Romance' and 'Animation Adventure Family', these unique genres are too specific for my relatively small data set. They are also bias to the order of the genres, for example, 'Crime Drama' != 'Drama Crime'. \n",
    "\n",
    "The 'main_genre' column is also too specific, where every movie only appears once and is bound to the first genre that appeared in the original_genre column.\n",
    "\n",
    "The general_genre columns are a good balance, with each movie appearing in all genre columns that appear in the original genre column"
   ]
  },
  {
   "cell_type": "markdown",
   "metadata": {},
   "source": [
    "## Creating Genre DF's"
   ]
  },
  {
   "cell_type": "code",
   "execution_count": 214,
   "metadata": {},
   "outputs": [],
   "source": [
    "general_genres = ['Comedy', 'Action', 'Drama', 'Crime', 'Biography', 'Adventure', 'Animation', 'Horror',\n",
    "                 'Fantasy', 'Mystery', 'Thriller', 'Western', 'Family', 'Sci-Fi', 'Romance', 'Film-Noir',\n",
    "                 'Musical', 'Music']"
   ]
  },
  {
   "cell_type": "code",
   "execution_count": 281,
   "metadata": {},
   "outputs": [],
   "source": [
    "#creating a new dataframe for each general_genre for movies that have a 1 in that column\n",
    "\n",
    "comedy = df.loc[df['Comedy'] == 1]\n",
    "comedy.reset_index(inplace=True)\n",
    "\n",
    "action = df.loc[df['Action'] == 1]\n",
    "action.reset_index(inplace=True)\n",
    "\n",
    "drama = df.loc[df['Drama'] == 1]\n",
    "drama.reset_index(inplace=True)\n",
    "\n",
    "crime = df.loc[df['Crime'] == 1]\n",
    "crime.reset_index(inplace=True)\n",
    "\n",
    "biography = df.loc[df['Biography'] == 1]\n",
    "biography.reset_index(inplace=True)\n",
    "\n",
    "adventure = df.loc[df['Adventure'] == 1]\n",
    "adventure.reset_index(inplace=True)\n",
    "\n",
    "animation = df.loc[df['Animation'] == 1]\n",
    "animation.reset_index(inplace=True)\n",
    "\n",
    "horror = df.loc[df['Horror'] == 1]\n",
    "horror.reset_index(inplace=True)\n",
    "\n",
    "fantasy = df.loc[df['Fantasy'] == 1]\n",
    "fantasy.reset_index(inplace=True)\n",
    "\n",
    "mystery = df.loc[df['Mystery'] == 1]\n",
    "mystery.reset_index(inplace=True)\n",
    "\n",
    "thriller = df.loc[df['Thriller'] == 1]\n",
    "thriller.reset_index(inplace=True)\n",
    "\n",
    "western = df.loc[df['Western'] == 1]\n",
    "western.reset_index(inplace=True)\n",
    "\n",
    "family = df.loc[df['Family'] == 1]\n",
    "family.reset_index(inplace=True)\n",
    "\n",
    "scifi = df.loc[df['Sci-Fi'] == 1]\n",
    "scifi.reset_index(inplace=True)\n",
    "\n",
    "romance = df.loc[df['Romance'] == 1]\n",
    "romance.reset_index(inplace=True)\n",
    "\n",
    "noir = df.loc[df['Film-Noir'] == 1]\n",
    "noir.reset_index(inplace=True)\n",
    "\n",
    "musical = df.loc[df['Musical'] == 1]\n",
    "musical.reset_index(inplace=True)\n",
    "\n",
    "music = df.loc[df['Music'] == 1]\n",
    "music.reset_index(inplace=True)"
   ]
  },
  {
   "cell_type": "code",
   "execution_count": 284,
   "metadata": {},
   "outputs": [],
   "source": [
    "genre_dfs = [comedy, action, drama, crime, biography, adventure, animation, horror, fantasy, \n",
    "             mystery, thriller, western, family, scifi, romance, noir, musical, music]"
   ]
  },
  {
   "cell_type": "code",
   "execution_count": 287,
   "metadata": {},
   "outputs": [
    {
     "data": {
      "text/plain": [
       "16891"
      ]
     },
     "execution_count": 287,
     "metadata": {},
     "output_type": "execute_result"
    }
   ],
   "source": [
    "movie_count = 0\n",
    "for df in genre_dfs:\n",
    "    movie_count += df.shape[0]\n",
    "movie_count"
   ]
  },
  {
   "cell_type": "markdown",
   "metadata": {},
   "source": [
    "## Saving Genre DF's"
   ]
  },
  {
   "cell_type": "code",
   "execution_count": 2,
   "metadata": {
    "collapsed": true,
    "jupyter": {
     "outputs_hidden": true
    }
   },
   "outputs": [
    {
     "ename": "NameError",
     "evalue": "name 'comedy' is not defined",
     "output_type": "error",
     "traceback": [
      "\u001b[0;31m---------------------------------------------------------------------------\u001b[0m",
      "\u001b[0;31mNameError\u001b[0m                                 Traceback (most recent call last)",
      "\u001b[0;32m<ipython-input-2-887bf3723e13>\u001b[0m in \u001b[0;36m<module>\u001b[0;34m\u001b[0m\n\u001b[0;32m----> 1\u001b[0;31m \u001b[0mcomedy\u001b[0m\u001b[0;34m.\u001b[0m\u001b[0mto_csv\u001b[0m\u001b[0;34m(\u001b[0m\u001b[0;34m'../data/genre_groups/comedy.csv'\u001b[0m\u001b[0;34m,\u001b[0m \u001b[0mindex\u001b[0m\u001b[0;34m=\u001b[0m\u001b[0;32mFalse\u001b[0m\u001b[0;34m)\u001b[0m\u001b[0;34m\u001b[0m\u001b[0;34m\u001b[0m\u001b[0m\n\u001b[0m\u001b[1;32m      2\u001b[0m \u001b[0maction\u001b[0m\u001b[0;34m.\u001b[0m\u001b[0mto_csv\u001b[0m\u001b[0;34m(\u001b[0m\u001b[0;34m'../data/genre_groups/action.csv'\u001b[0m\u001b[0;34m,\u001b[0m \u001b[0mindex\u001b[0m\u001b[0;34m=\u001b[0m\u001b[0;32mFalse\u001b[0m\u001b[0;34m)\u001b[0m\u001b[0;34m\u001b[0m\u001b[0;34m\u001b[0m\u001b[0m\n\u001b[1;32m      3\u001b[0m \u001b[0mdrama\u001b[0m\u001b[0;34m.\u001b[0m\u001b[0mto_csv\u001b[0m\u001b[0;34m(\u001b[0m\u001b[0;34m'../data/genre_groups/drama.csv'\u001b[0m\u001b[0;34m,\u001b[0m \u001b[0mindex\u001b[0m\u001b[0;34m=\u001b[0m\u001b[0;32mFalse\u001b[0m\u001b[0;34m)\u001b[0m\u001b[0;34m\u001b[0m\u001b[0;34m\u001b[0m\u001b[0m\n\u001b[1;32m      4\u001b[0m \u001b[0mcrime\u001b[0m\u001b[0;34m.\u001b[0m\u001b[0mto_csv\u001b[0m\u001b[0;34m(\u001b[0m\u001b[0;34m'../data/genre_groups/crime.csv'\u001b[0m\u001b[0;34m,\u001b[0m \u001b[0mindex\u001b[0m\u001b[0;34m=\u001b[0m\u001b[0;32mFalse\u001b[0m\u001b[0;34m)\u001b[0m\u001b[0;34m\u001b[0m\u001b[0;34m\u001b[0m\u001b[0m\n\u001b[1;32m      5\u001b[0m \u001b[0mbiography\u001b[0m\u001b[0;34m.\u001b[0m\u001b[0mto_csv\u001b[0m\u001b[0;34m(\u001b[0m\u001b[0;34m'../data/genre_groups/biography.csv'\u001b[0m\u001b[0;34m,\u001b[0m \u001b[0mindex\u001b[0m\u001b[0;34m=\u001b[0m\u001b[0;32mFalse\u001b[0m\u001b[0;34m)\u001b[0m\u001b[0;34m\u001b[0m\u001b[0;34m\u001b[0m\u001b[0m\n",
      "\u001b[0;31mNameError\u001b[0m: name 'comedy' is not defined"
     ]
    }
   ],
   "source": [
    "comedy.to_csv('../data/genre_groups/comedy.csv', index=False)\n",
    "action.to_csv('../data/genre_groups/action.csv', index=False)\n",
    "drama.to_csv('../data/genre_groups/drama.csv', index=False)\n",
    "crime.to_csv('../data/genre_groups/crime.csv', index=False)\n",
    "biography.to_csv('../data/genre_groups/biography.csv', index=False)\n",
    "adventure.to_csv('../data/genre_groups/adventure.csv', index=False)\n",
    "animation.to_csv('../data/genre_groups/animation.csv', index=False)\n",
    "horror.to_csv('../data/genre_groups/horror.csv', index=False)\n",
    "fantasy.to_csv('../data/genre_groups/fantasy.csv', index=False)\n",
    "mystery.to_csv('../data/genre_groups/mystery.csv', index=False)\n",
    "thriller.to_csv('../data/genre_groups/thriller.csv', index=False)\n",
    "western.to_csv('../data/genre_groups/western.csv', index=False)\n",
    "family.to_csv('../data/genre_groups/family.csv', index=False)\n",
    "scifi.to_csv('../data/genre_groups/scifi.csv', index=False)\n",
    "romance.to_csv('../data/genre_groups/romance.csv', index=False)\n",
    "noir.to_csv('../data/genre_groups/noir.csv', index=False)\n",
    "musical.to_csv('../data/genre_groups/musical.csv', index=False)\n",
    "music.to_csv('../data/genre_groups/music.csv', index=False)"
   ]
  },
  {
   "cell_type": "markdown",
   "metadata": {},
   "source": [
    "## Saving Master Genre DF"
   ]
  },
  {
   "cell_type": "code",
   "execution_count": 32,
   "metadata": {},
   "outputs": [],
   "source": [
    "df.to_csv('../data/genre_groups/master_genre_df.csv', index=False)"
   ]
  },
  {
   "cell_type": "code",
   "execution_count": null,
   "metadata": {},
   "outputs": [],
   "source": []
  },
  {
   "cell_type": "code",
   "execution_count": null,
   "metadata": {},
   "outputs": [],
   "source": []
  },
  {
   "cell_type": "markdown",
   "metadata": {},
   "source": [
    "# Testing Basic Genre Model "
   ]
  },
  {
   "cell_type": "code",
   "execution_count": 4,
   "metadata": {},
   "outputs": [],
   "source": [
    "comedy = pd.read_csv('../data/genre_groups/comedy.csv')"
   ]
  },
  {
   "cell_type": "code",
   "execution_count": 5,
   "metadata": {},
   "outputs": [],
   "source": [
    "test = comedy['user_plots']"
   ]
  },
  {
   "cell_type": "code",
   "execution_count": 6,
   "metadata": {},
   "outputs": [
    {
     "data": {
      "text/plain": [
       "'[\\'Marty McFly, a 17-year-old high school student, is accidentally sent thirty years into the past in a time-traveling DeLorean invented by his close friend, the eccentric scientist Doc Brown.\\', \\'Marty McFly, a typical American teenager of the Eighties, is accidentally sent back to 1955 in a plutonium-powered DeLorean \"time machine\" invented by a slightly mad scientist. During his often hysterical, always amazing trip back in time, Marty must make certain his teenage parents-to-be meet and fall in love - so he can get back to the future.\\', \\'Marty McFly\\\\\\'s life is a dump. His father, George, is constantly bullied by his supervisor Biff Tannen and his mother, Lorraine, is an overweight alcoholic. One day, Marty gets a call from his scientist friend Dr. \"Doc\" Emmet Brown telling Marty to meet him at Twin Pines Mall at 1:15 AM where Doc unveils a time machine that runs off of plutonium built into a DeLorean and demonstrates it to Marty. Marty accidentally activates the time machine, sending him back to 1955 where he accidentally gets in the way of his teenage parents meeting. Marty must find a way to convince Doc that he is from the future, reunite his parents, and ultimately get back to the future.\\', \"In this 1980s sci-fi classic, small-town California teen Marty McFly is thrown back into the \\'50s when an experiment by his eccentric scientist friend Doc Brown goes awry. Traveling through time in a modified DeLorean car, Marty encounters young versions of his parents, and must make sure that they fall in love or he\\'ll cease to exist. Even more dauntingly, Marty has to return to his own time and save the life of Doc Brown.\", \\'Marty McFly, a 17 year old high school student gets lost in 1955 by an accident, 30 years back in time. With the help of his friend Dr. Emmet Brown, he is desperately trying to find his way back to the future in the year 1985. It becomes a battle against the clock.\\', \"It is the year 1985. Marty McFly, a mild-mannered high school student, stopped by Dr. Emmett L. Brown\\'s laboratory to play around with an amplifier. Then he receives a message from Doc that he needs help from him for Doc\\'s latest invention, a time machine made out of a DeLorean sports car that can travel through time instantaneously when it reaches a speed velocity of 88 MPH. Then, Doc was gunned down by Libyan Nationalists, Marty makes an effort to escape from the Lybians by using the time machine. Then Marty accidentally warps himself into 1955. Where he meets both of his parents when they were teenagers, then Marty unintentionally interrupts his parent\\'s first meeting together, he then finds a younger version of Doc and together they try to find a way to get Marty\\'s parents-to-be back together, and to get Marty back to 1985.\"]'"
      ]
     },
     "execution_count": 6,
     "metadata": {},
     "output_type": "execute_result"
    }
   ],
   "source": [
    "test[0]"
   ]
  },
  {
   "cell_type": "code",
   "execution_count": 7,
   "metadata": {},
   "outputs": [],
   "source": [
    "tf = TfidfVectorizer(analyzer='word', ngram_range=(1,2),\n",
    "                     min_df=0, stop_words='english')\n",
    "matrix = tf.fit_transform(test)"
   ]
  },
  {
   "cell_type": "code",
   "execution_count": 8,
   "metadata": {},
   "outputs": [
    {
     "data": {
      "text/plain": [
       "(2652, 364868)"
      ]
     },
     "execution_count": 8,
     "metadata": {},
     "output_type": "execute_result"
    }
   ],
   "source": [
    "matrix.shape"
   ]
  },
  {
   "cell_type": "code",
   "execution_count": 9,
   "metadata": {},
   "outputs": [],
   "source": [
    "cos = sklearn.metrics.pairwise.linear_kernel(matrix, matrix)\n",
    "cos = [row for row in cos]\n",
    "cos_df = pd.DataFrame(cos)\n",
    "cos_df['title'] = comedy['title']"
   ]
  },
  {
   "cell_type": "code",
   "execution_count": 10,
   "metadata": {},
   "outputs": [],
   "source": [
    "title = [x for x in cos_df['title']]\n",
    "cos_df.set_index('title', inplace=True)\n",
    "cos_df.columns = [x for x in cos_df.index]"
   ]
  },
  {
   "cell_type": "code",
   "execution_count": 11,
   "metadata": {},
   "outputs": [],
   "source": [
    "def recommend_me(title):\n",
    "    l = cos_df[title]\n",
    "    return l.sort_values(ascending=False)[1:10]"
   ]
  },
  {
   "cell_type": "code",
   "execution_count": 35,
   "metadata": {},
   "outputs": [
    {
     "data": {
      "text/plain": [
       "title\n",
       "Back to the Future Part III           0.565937\n",
       "Back to the Future Part II            0.483751\n",
       "Big Fat Liar                          0.153957\n",
       "Seven Psychopaths                     0.115808\n",
       "Last Flag Flying                      0.113928\n",
       "The Campaign                          0.101167\n",
       "Inherent Vice                         0.094116\n",
       "Madagascar                            0.086176\n",
       "Madagascar 3: Europe's Most Wanted    0.077993\n",
       "Name: Back to the Future, dtype: float64"
      ]
     },
     "execution_count": 35,
     "metadata": {},
     "output_type": "execute_result"
    }
   ],
   "source": [
    "recommend_me('Back to the Future')"
   ]
  },
  {
   "cell_type": "code",
   "execution_count": null,
   "metadata": {},
   "outputs": [],
   "source": []
  }
 ],
 "metadata": {
  "kernelspec": {
   "display_name": "Python 3",
   "language": "python",
   "name": "python3"
  },
  "language_info": {
   "codemirror_mode": {
    "name": "ipython",
    "version": 3
   },
   "file_extension": ".py",
   "mimetype": "text/x-python",
   "name": "python",
   "nbconvert_exporter": "python",
   "pygments_lexer": "ipython3",
   "version": "3.8.5"
  }
 },
 "nbformat": 4,
 "nbformat_minor": 4
}
